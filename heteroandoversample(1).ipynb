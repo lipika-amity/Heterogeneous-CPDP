{
  "nbformat": 4,
  "nbformat_minor": 0,
  "metadata": {
    "colab": {
      "name": "heteroandoversample.ipynb",
      "provenance": [],
      "collapsed_sections": []
    },
    "kernelspec": {
      "name": "python3",
      "display_name": "Python 3"
    }
  },
  "cells": [
    {
      "cell_type": "code",
      "metadata": {
        "id": "ZkyeG4xsGFAl",
        "colab_type": "code",
        "outputId": "a03e3c71-40d2-490b-c389-af3f20ee51bb",
        "colab": {
          "base_uri": "https://localhost:8080/",
          "height": 226
        }
      },
      "source": [
        "from scipy.io import arff\n",
        "import pandas as pd\n",
        "\n",
        "data = arff.loadarff('PC4.arff')\n",
        "#data=pd.read_csv(\"\")    #for csv ffiles\n",
        "df = pd.DataFrame(data[0])\n",
        "\n",
        "df.head()"
      ],
      "execution_count": 0,
      "outputs": [
        {
          "output_type": "execute_result",
          "data": {
            "text/html": [
              "<div>\n",
              "<style scoped>\n",
              "    .dataframe tbody tr th:only-of-type {\n",
              "        vertical-align: middle;\n",
              "    }\n",
              "\n",
              "    .dataframe tbody tr th {\n",
              "        vertical-align: top;\n",
              "    }\n",
              "\n",
              "    .dataframe thead th {\n",
              "        text-align: right;\n",
              "    }\n",
              "</style>\n",
              "<table border=\"1\" class=\"dataframe\">\n",
              "  <thead>\n",
              "    <tr style=\"text-align: right;\">\n",
              "      <th></th>\n",
              "      <th>LOC_BLANK</th>\n",
              "      <th>BRANCH_COUNT</th>\n",
              "      <th>CALL_PAIRS</th>\n",
              "      <th>LOC_CODE_AND_COMMENT</th>\n",
              "      <th>LOC_COMMENTS</th>\n",
              "      <th>CONDITION_COUNT</th>\n",
              "      <th>CYCLOMATIC_COMPLEXITY</th>\n",
              "      <th>CYCLOMATIC_DENSITY</th>\n",
              "      <th>DECISION_COUNT</th>\n",
              "      <th>DECISION_DENSITY</th>\n",
              "      <th>DESIGN_COMPLEXITY</th>\n",
              "      <th>DESIGN_DENSITY</th>\n",
              "      <th>EDGE_COUNT</th>\n",
              "      <th>ESSENTIAL_COMPLEXITY</th>\n",
              "      <th>ESSENTIAL_DENSITY</th>\n",
              "      <th>LOC_EXECUTABLE</th>\n",
              "      <th>PARAMETER_COUNT</th>\n",
              "      <th>HALSTEAD_CONTENT</th>\n",
              "      <th>HALSTEAD_DIFFICULTY</th>\n",
              "      <th>HALSTEAD_EFFORT</th>\n",
              "      <th>HALSTEAD_ERROR_EST</th>\n",
              "      <th>HALSTEAD_LENGTH</th>\n",
              "      <th>HALSTEAD_LEVEL</th>\n",
              "      <th>HALSTEAD_PROG_TIME</th>\n",
              "      <th>HALSTEAD_VOLUME</th>\n",
              "      <th>MAINTENANCE_SEVERITY</th>\n",
              "      <th>MODIFIED_CONDITION_COUNT</th>\n",
              "      <th>MULTIPLE_CONDITION_COUNT</th>\n",
              "      <th>NODE_COUNT</th>\n",
              "      <th>NORMALIZED_CYLOMATIC_COMPLEXITY</th>\n",
              "      <th>NUM_OPERANDS</th>\n",
              "      <th>NUM_OPERATORS</th>\n",
              "      <th>NUM_UNIQUE_OPERANDS</th>\n",
              "      <th>NUM_UNIQUE_OPERATORS</th>\n",
              "      <th>NUMBER_OF_LINES</th>\n",
              "      <th>PERCENT_COMMENTS</th>\n",
              "      <th>LOC_TOTAL</th>\n",
              "      <th>c</th>\n",
              "    </tr>\n",
              "  </thead>\n",
              "  <tbody>\n",
              "    <tr>\n",
              "      <th>0</th>\n",
              "      <td>17.0</td>\n",
              "      <td>11.0</td>\n",
              "      <td>5.0</td>\n",
              "      <td>2.0</td>\n",
              "      <td>8.0</td>\n",
              "      <td>20.0</td>\n",
              "      <td>6.0</td>\n",
              "      <td>0.25</td>\n",
              "      <td>10.0</td>\n",
              "      <td>2.0</td>\n",
              "      <td>4.0</td>\n",
              "      <td>0.67</td>\n",
              "      <td>29.0</td>\n",
              "      <td>1.0</td>\n",
              "      <td>0.0</td>\n",
              "      <td>22.0</td>\n",
              "      <td>7.0</td>\n",
              "      <td>37.84</td>\n",
              "      <td>13.83</td>\n",
              "      <td>7233.63</td>\n",
              "      <td>0.17</td>\n",
              "      <td>102.0</td>\n",
              "      <td>0.07</td>\n",
              "      <td>401.87</td>\n",
              "      <td>523.19</td>\n",
              "      <td>0.17</td>\n",
              "      <td>5.0</td>\n",
              "      <td>10.0</td>\n",
              "      <td>25.0</td>\n",
              "      <td>0.11</td>\n",
              "      <td>53.0</td>\n",
              "      <td>49.0</td>\n",
              "      <td>23.0</td>\n",
              "      <td>12.0</td>\n",
              "      <td>57.0</td>\n",
              "      <td>31.25</td>\n",
              "      <td>24.0</td>\n",
              "      <td>b'FALSE'</td>\n",
              "    </tr>\n",
              "    <tr>\n",
              "      <th>1</th>\n",
              "      <td>2.0</td>\n",
              "      <td>9.0</td>\n",
              "      <td>3.0</td>\n",
              "      <td>0.0</td>\n",
              "      <td>1.0</td>\n",
              "      <td>16.0</td>\n",
              "      <td>5.0</td>\n",
              "      <td>0.56</td>\n",
              "      <td>6.0</td>\n",
              "      <td>2.0</td>\n",
              "      <td>3.0</td>\n",
              "      <td>0.60</td>\n",
              "      <td>17.0</td>\n",
              "      <td>4.0</td>\n",
              "      <td>0.0</td>\n",
              "      <td>9.0</td>\n",
              "      <td>1.0</td>\n",
              "      <td>12.50</td>\n",
              "      <td>13.00</td>\n",
              "      <td>2112.70</td>\n",
              "      <td>0.05</td>\n",
              "      <td>37.0</td>\n",
              "      <td>0.08</td>\n",
              "      <td>117.37</td>\n",
              "      <td>162.52</td>\n",
              "      <td>0.80</td>\n",
              "      <td>5.0</td>\n",
              "      <td>8.0</td>\n",
              "      <td>14.0</td>\n",
              "      <td>0.36</td>\n",
              "      <td>13.0</td>\n",
              "      <td>24.0</td>\n",
              "      <td>7.0</td>\n",
              "      <td>14.0</td>\n",
              "      <td>14.0</td>\n",
              "      <td>10.00</td>\n",
              "      <td>9.0</td>\n",
              "      <td>b'FALSE'</td>\n",
              "    </tr>\n",
              "    <tr>\n",
              "      <th>2</th>\n",
              "      <td>2.0</td>\n",
              "      <td>5.0</td>\n",
              "      <td>1.0</td>\n",
              "      <td>1.0</td>\n",
              "      <td>1.0</td>\n",
              "      <td>6.0</td>\n",
              "      <td>3.0</td>\n",
              "      <td>0.17</td>\n",
              "      <td>2.0</td>\n",
              "      <td>3.0</td>\n",
              "      <td>2.0</td>\n",
              "      <td>0.67</td>\n",
              "      <td>8.0</td>\n",
              "      <td>3.0</td>\n",
              "      <td>1.0</td>\n",
              "      <td>17.0</td>\n",
              "      <td>1.0</td>\n",
              "      <td>15.99</td>\n",
              "      <td>12.44</td>\n",
              "      <td>2476.90</td>\n",
              "      <td>0.07</td>\n",
              "      <td>44.0</td>\n",
              "      <td>0.08</td>\n",
              "      <td>137.61</td>\n",
              "      <td>199.04</td>\n",
              "      <td>1.00</td>\n",
              "      <td>2.0</td>\n",
              "      <td>3.0</td>\n",
              "      <td>7.0</td>\n",
              "      <td>0.13</td>\n",
              "      <td>16.0</td>\n",
              "      <td>28.0</td>\n",
              "      <td>9.0</td>\n",
              "      <td>14.0</td>\n",
              "      <td>23.0</td>\n",
              "      <td>10.53</td>\n",
              "      <td>18.0</td>\n",
              "      <td>b'FALSE'</td>\n",
              "    </tr>\n",
              "    <tr>\n",
              "      <th>3</th>\n",
              "      <td>4.0</td>\n",
              "      <td>5.0</td>\n",
              "      <td>1.0</td>\n",
              "      <td>0.0</td>\n",
              "      <td>0.0</td>\n",
              "      <td>8.0</td>\n",
              "      <td>3.0</td>\n",
              "      <td>0.30</td>\n",
              "      <td>4.0</td>\n",
              "      <td>2.0</td>\n",
              "      <td>2.0</td>\n",
              "      <td>0.67</td>\n",
              "      <td>11.0</td>\n",
              "      <td>1.0</td>\n",
              "      <td>0.0</td>\n",
              "      <td>10.0</td>\n",
              "      <td>0.0</td>\n",
              "      <td>21.06</td>\n",
              "      <td>5.85</td>\n",
              "      <td>720.66</td>\n",
              "      <td>0.04</td>\n",
              "      <td>29.0</td>\n",
              "      <td>0.17</td>\n",
              "      <td>40.04</td>\n",
              "      <td>123.19</td>\n",
              "      <td>0.33</td>\n",
              "      <td>2.0</td>\n",
              "      <td>4.0</td>\n",
              "      <td>10.0</td>\n",
              "      <td>0.19</td>\n",
              "      <td>13.0</td>\n",
              "      <td>16.0</td>\n",
              "      <td>10.0</td>\n",
              "      <td>9.0</td>\n",
              "      <td>16.0</td>\n",
              "      <td>0.00</td>\n",
              "      <td>10.0</td>\n",
              "      <td>b'FALSE'</td>\n",
              "    </tr>\n",
              "    <tr>\n",
              "      <th>4</th>\n",
              "      <td>7.0</td>\n",
              "      <td>5.0</td>\n",
              "      <td>1.0</td>\n",
              "      <td>3.0</td>\n",
              "      <td>0.0</td>\n",
              "      <td>0.0</td>\n",
              "      <td>3.0</td>\n",
              "      <td>0.15</td>\n",
              "      <td>0.0</td>\n",
              "      <td>0.0</td>\n",
              "      <td>1.0</td>\n",
              "      <td>0.33</td>\n",
              "      <td>11.0</td>\n",
              "      <td>1.0</td>\n",
              "      <td>0.0</td>\n",
              "      <td>17.0</td>\n",
              "      <td>2.0</td>\n",
              "      <td>21.09</td>\n",
              "      <td>13.00</td>\n",
              "      <td>3563.68</td>\n",
              "      <td>0.09</td>\n",
              "      <td>72.0</td>\n",
              "      <td>0.08</td>\n",
              "      <td>197.98</td>\n",
              "      <td>274.13</td>\n",
              "      <td>0.33</td>\n",
              "      <td>0.0</td>\n",
              "      <td>0.0</td>\n",
              "      <td>10.0</td>\n",
              "      <td>0.11</td>\n",
              "      <td>26.0</td>\n",
              "      <td>46.0</td>\n",
              "      <td>7.0</td>\n",
              "      <td>7.0</td>\n",
              "      <td>28.0</td>\n",
              "      <td>15.00</td>\n",
              "      <td>20.0</td>\n",
              "      <td>b'FALSE'</td>\n",
              "    </tr>\n",
              "  </tbody>\n",
              "</table>\n",
              "</div>"
            ],
            "text/plain": [
              "   LOC_BLANK  BRANCH_COUNT  CALL_PAIRS  ...  PERCENT_COMMENTS  LOC_TOTAL         c\n",
              "0       17.0          11.0         5.0  ...             31.25       24.0  b'FALSE'\n",
              "1        2.0           9.0         3.0  ...             10.00        9.0  b'FALSE'\n",
              "2        2.0           5.0         1.0  ...             10.53       18.0  b'FALSE'\n",
              "3        4.0           5.0         1.0  ...              0.00       10.0  b'FALSE'\n",
              "4        7.0           5.0         1.0  ...             15.00       20.0  b'FALSE'\n",
              "\n",
              "[5 rows x 38 columns]"
            ]
          },
          "metadata": {
            "tags": []
          },
          "execution_count": 1
        }
      ]
    },
    {
      "cell_type": "code",
      "metadata": {
        "id": "3m0ibc8qGRIN",
        "colab_type": "code",
        "outputId": "198c1159-dd5b-4cc5-c2cb-30ce0aaae6dd",
        "colab": {
          "base_uri": "https://localhost:8080/",
          "height": 35
        }
      },
      "source": [
        "df.shape"
      ],
      "execution_count": 0,
      "outputs": [
        {
          "output_type": "execute_result",
          "data": {
            "text/plain": [
              "(1458, 38)"
            ]
          },
          "metadata": {
            "tags": []
          },
          "execution_count": 2
        }
      ]
    },
    {
      "cell_type": "code",
      "metadata": {
        "id": "OZf2evKKIyIs",
        "colab_type": "code",
        "outputId": "cdb97462-d053-444b-bb88-cc784c201a8e",
        "colab": {
          "base_uri": "https://localhost:8080/",
          "height": 226
        }
      },
      "source": [
        "data = arff.loadarff('ar3.arff')\n",
        "dd = pd.DataFrame(data[0])\n",
        "\n",
        "dd.head()"
      ],
      "execution_count": 0,
      "outputs": [
        {
          "output_type": "execute_result",
          "data": {
            "text/html": [
              "<div>\n",
              "<style scoped>\n",
              "    .dataframe tbody tr th:only-of-type {\n",
              "        vertical-align: middle;\n",
              "    }\n",
              "\n",
              "    .dataframe tbody tr th {\n",
              "        vertical-align: top;\n",
              "    }\n",
              "\n",
              "    .dataframe thead th {\n",
              "        text-align: right;\n",
              "    }\n",
              "</style>\n",
              "<table border=\"1\" class=\"dataframe\">\n",
              "  <thead>\n",
              "    <tr style=\"text-align: right;\">\n",
              "      <th></th>\n",
              "      <th>total_loc</th>\n",
              "      <th>blank_loc</th>\n",
              "      <th>comment_loc</th>\n",
              "      <th>code_and_comment_loc</th>\n",
              "      <th>executable_loc</th>\n",
              "      <th>unique_operands</th>\n",
              "      <th>unique_operators</th>\n",
              "      <th>total_operands</th>\n",
              "      <th>total_operators</th>\n",
              "      <th>halstead_vocabulary</th>\n",
              "      <th>halstead_length</th>\n",
              "      <th>halstead_volume</th>\n",
              "      <th>halstead_level</th>\n",
              "      <th>halstead_difficulty</th>\n",
              "      <th>halstead_effort</th>\n",
              "      <th>halstead_error</th>\n",
              "      <th>halstead_time</th>\n",
              "      <th>branch_count</th>\n",
              "      <th>decision_count</th>\n",
              "      <th>call_pairs</th>\n",
              "      <th>condition_count</th>\n",
              "      <th>multiple_condition_count</th>\n",
              "      <th>cyclomatic_complexity</th>\n",
              "      <th>cyclomatic_density</th>\n",
              "      <th>decision_density</th>\n",
              "      <th>design_complexity</th>\n",
              "      <th>design_density</th>\n",
              "      <th>normalized_cyclomatic_complexity</th>\n",
              "      <th>formal_parameters</th>\n",
              "      <th>defects</th>\n",
              "    </tr>\n",
              "  </thead>\n",
              "  <tbody>\n",
              "    <tr>\n",
              "      <th>0</th>\n",
              "      <td>307.0</td>\n",
              "      <td>116.0</td>\n",
              "      <td>44.0</td>\n",
              "      <td>5.0</td>\n",
              "      <td>147.0</td>\n",
              "      <td>138.0</td>\n",
              "      <td>23.0</td>\n",
              "      <td>245.0</td>\n",
              "      <td>366.0</td>\n",
              "      <td>161.0</td>\n",
              "      <td>611.0</td>\n",
              "      <td>3104.0</td>\n",
              "      <td>0.048980</td>\n",
              "      <td>20.4167</td>\n",
              "      <td>63373.3333</td>\n",
              "      <td>1.034700</td>\n",
              "      <td>3520.7407</td>\n",
              "      <td>94.0</td>\n",
              "      <td>47.0</td>\n",
              "      <td>43.0</td>\n",
              "      <td>39.0</td>\n",
              "      <td>10.0</td>\n",
              "      <td>37.0</td>\n",
              "      <td>0.25170</td>\n",
              "      <td>1.2051</td>\n",
              "      <td>43.0</td>\n",
              "      <td>1.1622</td>\n",
              "      <td>0.120520</td>\n",
              "      <td>0.0</td>\n",
              "      <td>b'true'</td>\n",
              "    </tr>\n",
              "    <tr>\n",
              "      <th>1</th>\n",
              "      <td>3.0</td>\n",
              "      <td>0.0</td>\n",
              "      <td>0.0</td>\n",
              "      <td>0.0</td>\n",
              "      <td>3.0</td>\n",
              "      <td>4.0</td>\n",
              "      <td>6.0</td>\n",
              "      <td>6.0</td>\n",
              "      <td>8.0</td>\n",
              "      <td>10.0</td>\n",
              "      <td>14.0</td>\n",
              "      <td>32.0</td>\n",
              "      <td>0.222220</td>\n",
              "      <td>4.5000</td>\n",
              "      <td>144.0000</td>\n",
              "      <td>0.010667</td>\n",
              "      <td>8.0000</td>\n",
              "      <td>0.0</td>\n",
              "      <td>0.0</td>\n",
              "      <td>0.0</td>\n",
              "      <td>0.0</td>\n",
              "      <td>0.0</td>\n",
              "      <td>1.0</td>\n",
              "      <td>0.33333</td>\n",
              "      <td>0.0000</td>\n",
              "      <td>0.0</td>\n",
              "      <td>0.0000</td>\n",
              "      <td>0.333330</td>\n",
              "      <td>0.0</td>\n",
              "      <td>b'false'</td>\n",
              "    </tr>\n",
              "    <tr>\n",
              "      <th>2</th>\n",
              "      <td>268.0</td>\n",
              "      <td>72.0</td>\n",
              "      <td>22.0</td>\n",
              "      <td>0.0</td>\n",
              "      <td>174.0</td>\n",
              "      <td>125.0</td>\n",
              "      <td>23.0</td>\n",
              "      <td>337.0</td>\n",
              "      <td>484.0</td>\n",
              "      <td>148.0</td>\n",
              "      <td>821.0</td>\n",
              "      <td>4102.0</td>\n",
              "      <td>0.032254</td>\n",
              "      <td>31.0040</td>\n",
              "      <td>127178.4080</td>\n",
              "      <td>1.367300</td>\n",
              "      <td>7065.4671</td>\n",
              "      <td>190.0</td>\n",
              "      <td>95.0</td>\n",
              "      <td>0.0</td>\n",
              "      <td>94.0</td>\n",
              "      <td>32.0</td>\n",
              "      <td>64.0</td>\n",
              "      <td>0.36782</td>\n",
              "      <td>1.0106</td>\n",
              "      <td>0.0</td>\n",
              "      <td>0.0000</td>\n",
              "      <td>0.238810</td>\n",
              "      <td>0.0</td>\n",
              "      <td>b'false'</td>\n",
              "    </tr>\n",
              "    <tr>\n",
              "      <th>3</th>\n",
              "      <td>11.0</td>\n",
              "      <td>2.0</td>\n",
              "      <td>0.0</td>\n",
              "      <td>0.0</td>\n",
              "      <td>9.0</td>\n",
              "      <td>10.0</td>\n",
              "      <td>4.0</td>\n",
              "      <td>15.0</td>\n",
              "      <td>17.0</td>\n",
              "      <td>14.0</td>\n",
              "      <td>32.0</td>\n",
              "      <td>84.0</td>\n",
              "      <td>0.333330</td>\n",
              "      <td>3.0000</td>\n",
              "      <td>252.0000</td>\n",
              "      <td>0.028000</td>\n",
              "      <td>14.0000</td>\n",
              "      <td>0.0</td>\n",
              "      <td>0.0</td>\n",
              "      <td>2.0</td>\n",
              "      <td>0.0</td>\n",
              "      <td>0.0</td>\n",
              "      <td>1.0</td>\n",
              "      <td>0.11111</td>\n",
              "      <td>0.0000</td>\n",
              "      <td>2.0</td>\n",
              "      <td>2.0000</td>\n",
              "      <td>0.090909</td>\n",
              "      <td>0.0</td>\n",
              "      <td>b'false'</td>\n",
              "    </tr>\n",
              "    <tr>\n",
              "      <th>4</th>\n",
              "      <td>9.0</td>\n",
              "      <td>2.0</td>\n",
              "      <td>0.0</td>\n",
              "      <td>0.0</td>\n",
              "      <td>7.0</td>\n",
              "      <td>7.0</td>\n",
              "      <td>4.0</td>\n",
              "      <td>11.0</td>\n",
              "      <td>13.0</td>\n",
              "      <td>11.0</td>\n",
              "      <td>24.0</td>\n",
              "      <td>57.0</td>\n",
              "      <td>0.318180</td>\n",
              "      <td>3.1429</td>\n",
              "      <td>179.1429</td>\n",
              "      <td>0.019000</td>\n",
              "      <td>9.9524</td>\n",
              "      <td>0.0</td>\n",
              "      <td>0.0</td>\n",
              "      <td>1.0</td>\n",
              "      <td>0.0</td>\n",
              "      <td>0.0</td>\n",
              "      <td>1.0</td>\n",
              "      <td>0.14286</td>\n",
              "      <td>0.0000</td>\n",
              "      <td>1.0</td>\n",
              "      <td>1.0000</td>\n",
              "      <td>0.111110</td>\n",
              "      <td>0.0</td>\n",
              "      <td>b'false'</td>\n",
              "    </tr>\n",
              "  </tbody>\n",
              "</table>\n",
              "</div>"
            ],
            "text/plain": [
              "   total_loc  blank_loc  ...  formal_parameters   defects\n",
              "0      307.0      116.0  ...                0.0   b'true'\n",
              "1        3.0        0.0  ...                0.0  b'false'\n",
              "2      268.0       72.0  ...                0.0  b'false'\n",
              "3       11.0        2.0  ...                0.0  b'false'\n",
              "4        9.0        2.0  ...                0.0  b'false'\n",
              "\n",
              "[5 rows x 30 columns]"
            ]
          },
          "metadata": {
            "tags": []
          },
          "execution_count": 22
        }
      ]
    },
    {
      "cell_type": "code",
      "metadata": {
        "id": "CBjjoAkGI5Yo",
        "colab_type": "code",
        "colab": {}
      },
      "source": [
        "ddy=dd[[\"defects\"]]"
      ],
      "execution_count": 0,
      "outputs": []
    },
    {
      "cell_type": "code",
      "metadata": {
        "id": "FY-56MsUJciF",
        "colab_type": "code",
        "colab": {}
      },
      "source": [
        "dd=dd.drop(columns=[\"defects\"],axis=0)"
      ],
      "execution_count": 0,
      "outputs": []
    },
    {
      "cell_type": "code",
      "metadata": {
        "id": "y5UEURlNI-gj",
        "colab_type": "code",
        "outputId": "c311b7a7-d177-4f8a-9b45-39bf194ea3f1",
        "colab": {
          "base_uri": "https://localhost:8080/",
          "height": 175
        }
      },
      "source": [
        "ddy.describe()"
      ],
      "execution_count": 0,
      "outputs": [
        {
          "output_type": "execute_result",
          "data": {
            "text/html": [
              "<div>\n",
              "<style scoped>\n",
              "    .dataframe tbody tr th:only-of-type {\n",
              "        vertical-align: middle;\n",
              "    }\n",
              "\n",
              "    .dataframe tbody tr th {\n",
              "        vertical-align: top;\n",
              "    }\n",
              "\n",
              "    .dataframe thead th {\n",
              "        text-align: right;\n",
              "    }\n",
              "</style>\n",
              "<table border=\"1\" class=\"dataframe\">\n",
              "  <thead>\n",
              "    <tr style=\"text-align: right;\">\n",
              "      <th></th>\n",
              "      <th>defects</th>\n",
              "    </tr>\n",
              "  </thead>\n",
              "  <tbody>\n",
              "    <tr>\n",
              "      <th>count</th>\n",
              "      <td>63</td>\n",
              "    </tr>\n",
              "    <tr>\n",
              "      <th>unique</th>\n",
              "      <td>2</td>\n",
              "    </tr>\n",
              "    <tr>\n",
              "      <th>top</th>\n",
              "      <td>b'false'</td>\n",
              "    </tr>\n",
              "    <tr>\n",
              "      <th>freq</th>\n",
              "      <td>55</td>\n",
              "    </tr>\n",
              "  </tbody>\n",
              "</table>\n",
              "</div>"
            ],
            "text/plain": [
              "         defects\n",
              "count         63\n",
              "unique         2\n",
              "top     b'false'\n",
              "freq          55"
            ]
          },
          "metadata": {
            "tags": []
          },
          "execution_count": 24
        }
      ]
    },
    {
      "cell_type": "code",
      "metadata": {
        "id": "JRzcK3kIJf34",
        "colab_type": "code",
        "outputId": "7c2fa49e-2985-4921-f8c7-3b3e38ef77fa",
        "colab": {
          "base_uri": "https://localhost:8080/",
          "height": 226
        }
      },
      "source": [
        "dd.head()"
      ],
      "execution_count": 0,
      "outputs": [
        {
          "output_type": "execute_result",
          "data": {
            "text/html": [
              "<div>\n",
              "<style scoped>\n",
              "    .dataframe tbody tr th:only-of-type {\n",
              "        vertical-align: middle;\n",
              "    }\n",
              "\n",
              "    .dataframe tbody tr th {\n",
              "        vertical-align: top;\n",
              "    }\n",
              "\n",
              "    .dataframe thead th {\n",
              "        text-align: right;\n",
              "    }\n",
              "</style>\n",
              "<table border=\"1\" class=\"dataframe\">\n",
              "  <thead>\n",
              "    <tr style=\"text-align: right;\">\n",
              "      <th></th>\n",
              "      <th>total_loc</th>\n",
              "      <th>blank_loc</th>\n",
              "      <th>comment_loc</th>\n",
              "      <th>code_and_comment_loc</th>\n",
              "      <th>executable_loc</th>\n",
              "      <th>unique_operands</th>\n",
              "      <th>unique_operators</th>\n",
              "      <th>total_operands</th>\n",
              "      <th>total_operators</th>\n",
              "      <th>halstead_vocabulary</th>\n",
              "      <th>halstead_length</th>\n",
              "      <th>halstead_volume</th>\n",
              "      <th>halstead_level</th>\n",
              "      <th>halstead_difficulty</th>\n",
              "      <th>halstead_effort</th>\n",
              "      <th>halstead_error</th>\n",
              "      <th>halstead_time</th>\n",
              "      <th>branch_count</th>\n",
              "      <th>decision_count</th>\n",
              "      <th>call_pairs</th>\n",
              "      <th>condition_count</th>\n",
              "      <th>multiple_condition_count</th>\n",
              "      <th>cyclomatic_complexity</th>\n",
              "      <th>cyclomatic_density</th>\n",
              "      <th>decision_density</th>\n",
              "      <th>design_complexity</th>\n",
              "      <th>design_density</th>\n",
              "      <th>normalized_cyclomatic_complexity</th>\n",
              "      <th>formal_parameters</th>\n",
              "    </tr>\n",
              "  </thead>\n",
              "  <tbody>\n",
              "    <tr>\n",
              "      <th>0</th>\n",
              "      <td>307.0</td>\n",
              "      <td>116.0</td>\n",
              "      <td>44.0</td>\n",
              "      <td>5.0</td>\n",
              "      <td>147.0</td>\n",
              "      <td>138.0</td>\n",
              "      <td>23.0</td>\n",
              "      <td>245.0</td>\n",
              "      <td>366.0</td>\n",
              "      <td>161.0</td>\n",
              "      <td>611.0</td>\n",
              "      <td>3104.0</td>\n",
              "      <td>0.048980</td>\n",
              "      <td>20.4167</td>\n",
              "      <td>63373.3333</td>\n",
              "      <td>1.034700</td>\n",
              "      <td>3520.7407</td>\n",
              "      <td>94.0</td>\n",
              "      <td>47.0</td>\n",
              "      <td>43.0</td>\n",
              "      <td>39.0</td>\n",
              "      <td>10.0</td>\n",
              "      <td>37.0</td>\n",
              "      <td>0.25170</td>\n",
              "      <td>1.2051</td>\n",
              "      <td>43.0</td>\n",
              "      <td>1.1622</td>\n",
              "      <td>0.120520</td>\n",
              "      <td>0.0</td>\n",
              "    </tr>\n",
              "    <tr>\n",
              "      <th>1</th>\n",
              "      <td>3.0</td>\n",
              "      <td>0.0</td>\n",
              "      <td>0.0</td>\n",
              "      <td>0.0</td>\n",
              "      <td>3.0</td>\n",
              "      <td>4.0</td>\n",
              "      <td>6.0</td>\n",
              "      <td>6.0</td>\n",
              "      <td>8.0</td>\n",
              "      <td>10.0</td>\n",
              "      <td>14.0</td>\n",
              "      <td>32.0</td>\n",
              "      <td>0.222220</td>\n",
              "      <td>4.5000</td>\n",
              "      <td>144.0000</td>\n",
              "      <td>0.010667</td>\n",
              "      <td>8.0000</td>\n",
              "      <td>0.0</td>\n",
              "      <td>0.0</td>\n",
              "      <td>0.0</td>\n",
              "      <td>0.0</td>\n",
              "      <td>0.0</td>\n",
              "      <td>1.0</td>\n",
              "      <td>0.33333</td>\n",
              "      <td>0.0000</td>\n",
              "      <td>0.0</td>\n",
              "      <td>0.0000</td>\n",
              "      <td>0.333330</td>\n",
              "      <td>0.0</td>\n",
              "    </tr>\n",
              "    <tr>\n",
              "      <th>2</th>\n",
              "      <td>268.0</td>\n",
              "      <td>72.0</td>\n",
              "      <td>22.0</td>\n",
              "      <td>0.0</td>\n",
              "      <td>174.0</td>\n",
              "      <td>125.0</td>\n",
              "      <td>23.0</td>\n",
              "      <td>337.0</td>\n",
              "      <td>484.0</td>\n",
              "      <td>148.0</td>\n",
              "      <td>821.0</td>\n",
              "      <td>4102.0</td>\n",
              "      <td>0.032254</td>\n",
              "      <td>31.0040</td>\n",
              "      <td>127178.4080</td>\n",
              "      <td>1.367300</td>\n",
              "      <td>7065.4671</td>\n",
              "      <td>190.0</td>\n",
              "      <td>95.0</td>\n",
              "      <td>0.0</td>\n",
              "      <td>94.0</td>\n",
              "      <td>32.0</td>\n",
              "      <td>64.0</td>\n",
              "      <td>0.36782</td>\n",
              "      <td>1.0106</td>\n",
              "      <td>0.0</td>\n",
              "      <td>0.0000</td>\n",
              "      <td>0.238810</td>\n",
              "      <td>0.0</td>\n",
              "    </tr>\n",
              "    <tr>\n",
              "      <th>3</th>\n",
              "      <td>11.0</td>\n",
              "      <td>2.0</td>\n",
              "      <td>0.0</td>\n",
              "      <td>0.0</td>\n",
              "      <td>9.0</td>\n",
              "      <td>10.0</td>\n",
              "      <td>4.0</td>\n",
              "      <td>15.0</td>\n",
              "      <td>17.0</td>\n",
              "      <td>14.0</td>\n",
              "      <td>32.0</td>\n",
              "      <td>84.0</td>\n",
              "      <td>0.333330</td>\n",
              "      <td>3.0000</td>\n",
              "      <td>252.0000</td>\n",
              "      <td>0.028000</td>\n",
              "      <td>14.0000</td>\n",
              "      <td>0.0</td>\n",
              "      <td>0.0</td>\n",
              "      <td>2.0</td>\n",
              "      <td>0.0</td>\n",
              "      <td>0.0</td>\n",
              "      <td>1.0</td>\n",
              "      <td>0.11111</td>\n",
              "      <td>0.0000</td>\n",
              "      <td>2.0</td>\n",
              "      <td>2.0000</td>\n",
              "      <td>0.090909</td>\n",
              "      <td>0.0</td>\n",
              "    </tr>\n",
              "    <tr>\n",
              "      <th>4</th>\n",
              "      <td>9.0</td>\n",
              "      <td>2.0</td>\n",
              "      <td>0.0</td>\n",
              "      <td>0.0</td>\n",
              "      <td>7.0</td>\n",
              "      <td>7.0</td>\n",
              "      <td>4.0</td>\n",
              "      <td>11.0</td>\n",
              "      <td>13.0</td>\n",
              "      <td>11.0</td>\n",
              "      <td>24.0</td>\n",
              "      <td>57.0</td>\n",
              "      <td>0.318180</td>\n",
              "      <td>3.1429</td>\n",
              "      <td>179.1429</td>\n",
              "      <td>0.019000</td>\n",
              "      <td>9.9524</td>\n",
              "      <td>0.0</td>\n",
              "      <td>0.0</td>\n",
              "      <td>1.0</td>\n",
              "      <td>0.0</td>\n",
              "      <td>0.0</td>\n",
              "      <td>1.0</td>\n",
              "      <td>0.14286</td>\n",
              "      <td>0.0000</td>\n",
              "      <td>1.0</td>\n",
              "      <td>1.0000</td>\n",
              "      <td>0.111110</td>\n",
              "      <td>0.0</td>\n",
              "    </tr>\n",
              "  </tbody>\n",
              "</table>\n",
              "</div>"
            ],
            "text/plain": [
              "   total_loc  blank_loc  ...  normalized_cyclomatic_complexity  formal_parameters\n",
              "0      307.0      116.0  ...                          0.120520                0.0\n",
              "1        3.0        0.0  ...                          0.333330                0.0\n",
              "2      268.0       72.0  ...                          0.238810                0.0\n",
              "3       11.0        2.0  ...                          0.090909                0.0\n",
              "4        9.0        2.0  ...                          0.111110                0.0\n",
              "\n",
              "[5 rows x 29 columns]"
            ]
          },
          "metadata": {
            "tags": []
          },
          "execution_count": 26
        }
      ]
    },
    {
      "cell_type": "code",
      "metadata": {
        "id": "OosubtPbHbev",
        "colab_type": "code",
        "outputId": "0c667aba-4a4f-4f4f-e839-e80679d46b64",
        "colab": {
          "base_uri": "https://localhost:8080/",
          "height": 274
        }
      },
      "source": [
        "df.columns"
      ],
      "execution_count": 0,
      "outputs": [
        {
          "output_type": "execute_result",
          "data": {
            "text/plain": [
              "Index(['LOC_BLANK', 'BRANCH_COUNT', 'CALL_PAIRS', 'LOC_CODE_AND_COMMENT',\n",
              "       'LOC_COMMENTS', 'CONDITION_COUNT', 'CYCLOMATIC_COMPLEXITY',\n",
              "       'CYCLOMATIC_DENSITY', 'DECISION_COUNT', 'DECISION_DENSITY',\n",
              "       'DESIGN_COMPLEXITY', 'DESIGN_DENSITY', 'EDGE_COUNT',\n",
              "       'ESSENTIAL_COMPLEXITY', 'ESSENTIAL_DENSITY', 'LOC_EXECUTABLE',\n",
              "       'PARAMETER_COUNT', 'HALSTEAD_CONTENT', 'HALSTEAD_DIFFICULTY',\n",
              "       'HALSTEAD_EFFORT', 'HALSTEAD_ERROR_EST', 'HALSTEAD_LENGTH',\n",
              "       'HALSTEAD_LEVEL', 'HALSTEAD_PROG_TIME', 'HALSTEAD_VOLUME',\n",
              "       'MAINTENANCE_SEVERITY', 'MODIFIED_CONDITION_COUNT',\n",
              "       'MULTIPLE_CONDITION_COUNT', 'NODE_COUNT',\n",
              "       'NORMALIZED_CYLOMATIC_COMPLEXITY', 'NUM_OPERANDS', 'NUM_OPERATORS',\n",
              "       'NUM_UNIQUE_OPERANDS', 'NUM_UNIQUE_OPERATORS', 'NUMBER_OF_LINES',\n",
              "       'PERCENT_COMMENTS', 'LOC_TOTAL', 'c'],\n",
              "      dtype='object')"
            ]
          },
          "metadata": {
            "tags": []
          },
          "execution_count": 8
        }
      ]
    },
    {
      "cell_type": "code",
      "metadata": {
        "id": "TAork-5ZHt9l",
        "colab_type": "code",
        "colab": {}
      },
      "source": [
        "dfy=df[['c']]"
      ],
      "execution_count": 0,
      "outputs": []
    },
    {
      "cell_type": "code",
      "metadata": {
        "id": "3Zmwa-9zHxxU",
        "colab_type": "code",
        "colab": {}
      },
      "source": [
        "df=df.drop(columns=[\"c\"],axis=0)"
      ],
      "execution_count": 0,
      "outputs": []
    },
    {
      "cell_type": "code",
      "metadata": {
        "id": "DNwDfM-3IEZm",
        "colab_type": "code",
        "outputId": "69940b47-da03-4ee5-c3e5-511b1d78830e",
        "colab": {
          "base_uri": "https://localhost:8080/",
          "height": 175
        }
      },
      "source": [
        "dfy.describe()"
      ],
      "execution_count": 0,
      "outputs": [
        {
          "output_type": "execute_result",
          "data": {
            "text/html": [
              "<div>\n",
              "<style scoped>\n",
              "    .dataframe tbody tr th:only-of-type {\n",
              "        vertical-align: middle;\n",
              "    }\n",
              "\n",
              "    .dataframe tbody tr th {\n",
              "        vertical-align: top;\n",
              "    }\n",
              "\n",
              "    .dataframe thead th {\n",
              "        text-align: right;\n",
              "    }\n",
              "</style>\n",
              "<table border=\"1\" class=\"dataframe\">\n",
              "  <thead>\n",
              "    <tr style=\"text-align: right;\">\n",
              "      <th></th>\n",
              "      <th>c</th>\n",
              "    </tr>\n",
              "  </thead>\n",
              "  <tbody>\n",
              "    <tr>\n",
              "      <th>count</th>\n",
              "      <td>1458</td>\n",
              "    </tr>\n",
              "    <tr>\n",
              "      <th>unique</th>\n",
              "      <td>2</td>\n",
              "    </tr>\n",
              "    <tr>\n",
              "      <th>top</th>\n",
              "      <td>b'FALSE'</td>\n",
              "    </tr>\n",
              "    <tr>\n",
              "      <th>freq</th>\n",
              "      <td>1280</td>\n",
              "    </tr>\n",
              "  </tbody>\n",
              "</table>\n",
              "</div>"
            ],
            "text/plain": [
              "               c\n",
              "count       1458\n",
              "unique         2\n",
              "top     b'FALSE'\n",
              "freq        1280"
            ]
          },
          "metadata": {
            "tags": []
          },
          "execution_count": 20
        }
      ]
    },
    {
      "cell_type": "code",
      "metadata": {
        "id": "yjg0EE5AH7l3",
        "colab_type": "code",
        "outputId": "ab277eda-5842-4438-c152-f71ea8e17a9e",
        "colab": {
          "base_uri": "https://localhost:8080/",
          "height": 226
        }
      },
      "source": [
        "df.head()"
      ],
      "execution_count": 0,
      "outputs": [
        {
          "output_type": "execute_result",
          "data": {
            "text/html": [
              "<div>\n",
              "<style scoped>\n",
              "    .dataframe tbody tr th:only-of-type {\n",
              "        vertical-align: middle;\n",
              "    }\n",
              "\n",
              "    .dataframe tbody tr th {\n",
              "        vertical-align: top;\n",
              "    }\n",
              "\n",
              "    .dataframe thead th {\n",
              "        text-align: right;\n",
              "    }\n",
              "</style>\n",
              "<table border=\"1\" class=\"dataframe\">\n",
              "  <thead>\n",
              "    <tr style=\"text-align: right;\">\n",
              "      <th></th>\n",
              "      <th>LOC_BLANK</th>\n",
              "      <th>BRANCH_COUNT</th>\n",
              "      <th>CALL_PAIRS</th>\n",
              "      <th>LOC_CODE_AND_COMMENT</th>\n",
              "      <th>LOC_COMMENTS</th>\n",
              "      <th>CONDITION_COUNT</th>\n",
              "      <th>CYCLOMATIC_COMPLEXITY</th>\n",
              "      <th>CYCLOMATIC_DENSITY</th>\n",
              "      <th>DECISION_COUNT</th>\n",
              "      <th>DECISION_DENSITY</th>\n",
              "      <th>DESIGN_COMPLEXITY</th>\n",
              "      <th>DESIGN_DENSITY</th>\n",
              "      <th>EDGE_COUNT</th>\n",
              "      <th>ESSENTIAL_COMPLEXITY</th>\n",
              "      <th>ESSENTIAL_DENSITY</th>\n",
              "      <th>LOC_EXECUTABLE</th>\n",
              "      <th>PARAMETER_COUNT</th>\n",
              "      <th>HALSTEAD_CONTENT</th>\n",
              "      <th>HALSTEAD_DIFFICULTY</th>\n",
              "      <th>HALSTEAD_EFFORT</th>\n",
              "      <th>HALSTEAD_ERROR_EST</th>\n",
              "      <th>HALSTEAD_LENGTH</th>\n",
              "      <th>HALSTEAD_LEVEL</th>\n",
              "      <th>HALSTEAD_PROG_TIME</th>\n",
              "      <th>HALSTEAD_VOLUME</th>\n",
              "      <th>MAINTENANCE_SEVERITY</th>\n",
              "      <th>MODIFIED_CONDITION_COUNT</th>\n",
              "      <th>MULTIPLE_CONDITION_COUNT</th>\n",
              "      <th>NODE_COUNT</th>\n",
              "      <th>NORMALIZED_CYLOMATIC_COMPLEXITY</th>\n",
              "      <th>NUM_OPERANDS</th>\n",
              "      <th>NUM_OPERATORS</th>\n",
              "      <th>NUM_UNIQUE_OPERANDS</th>\n",
              "      <th>NUM_UNIQUE_OPERATORS</th>\n",
              "      <th>NUMBER_OF_LINES</th>\n",
              "      <th>PERCENT_COMMENTS</th>\n",
              "      <th>LOC_TOTAL</th>\n",
              "    </tr>\n",
              "  </thead>\n",
              "  <tbody>\n",
              "    <tr>\n",
              "      <th>0</th>\n",
              "      <td>17.0</td>\n",
              "      <td>11.0</td>\n",
              "      <td>5.0</td>\n",
              "      <td>2.0</td>\n",
              "      <td>8.0</td>\n",
              "      <td>20.0</td>\n",
              "      <td>6.0</td>\n",
              "      <td>0.25</td>\n",
              "      <td>10.0</td>\n",
              "      <td>2.0</td>\n",
              "      <td>4.0</td>\n",
              "      <td>0.67</td>\n",
              "      <td>29.0</td>\n",
              "      <td>1.0</td>\n",
              "      <td>0.0</td>\n",
              "      <td>22.0</td>\n",
              "      <td>7.0</td>\n",
              "      <td>37.84</td>\n",
              "      <td>13.83</td>\n",
              "      <td>7233.63</td>\n",
              "      <td>0.17</td>\n",
              "      <td>102.0</td>\n",
              "      <td>0.07</td>\n",
              "      <td>401.87</td>\n",
              "      <td>523.19</td>\n",
              "      <td>0.17</td>\n",
              "      <td>5.0</td>\n",
              "      <td>10.0</td>\n",
              "      <td>25.0</td>\n",
              "      <td>0.11</td>\n",
              "      <td>53.0</td>\n",
              "      <td>49.0</td>\n",
              "      <td>23.0</td>\n",
              "      <td>12.0</td>\n",
              "      <td>57.0</td>\n",
              "      <td>31.25</td>\n",
              "      <td>24.0</td>\n",
              "    </tr>\n",
              "    <tr>\n",
              "      <th>1</th>\n",
              "      <td>2.0</td>\n",
              "      <td>9.0</td>\n",
              "      <td>3.0</td>\n",
              "      <td>0.0</td>\n",
              "      <td>1.0</td>\n",
              "      <td>16.0</td>\n",
              "      <td>5.0</td>\n",
              "      <td>0.56</td>\n",
              "      <td>6.0</td>\n",
              "      <td>2.0</td>\n",
              "      <td>3.0</td>\n",
              "      <td>0.60</td>\n",
              "      <td>17.0</td>\n",
              "      <td>4.0</td>\n",
              "      <td>0.0</td>\n",
              "      <td>9.0</td>\n",
              "      <td>1.0</td>\n",
              "      <td>12.50</td>\n",
              "      <td>13.00</td>\n",
              "      <td>2112.70</td>\n",
              "      <td>0.05</td>\n",
              "      <td>37.0</td>\n",
              "      <td>0.08</td>\n",
              "      <td>117.37</td>\n",
              "      <td>162.52</td>\n",
              "      <td>0.80</td>\n",
              "      <td>5.0</td>\n",
              "      <td>8.0</td>\n",
              "      <td>14.0</td>\n",
              "      <td>0.36</td>\n",
              "      <td>13.0</td>\n",
              "      <td>24.0</td>\n",
              "      <td>7.0</td>\n",
              "      <td>14.0</td>\n",
              "      <td>14.0</td>\n",
              "      <td>10.00</td>\n",
              "      <td>9.0</td>\n",
              "    </tr>\n",
              "    <tr>\n",
              "      <th>2</th>\n",
              "      <td>2.0</td>\n",
              "      <td>5.0</td>\n",
              "      <td>1.0</td>\n",
              "      <td>1.0</td>\n",
              "      <td>1.0</td>\n",
              "      <td>6.0</td>\n",
              "      <td>3.0</td>\n",
              "      <td>0.17</td>\n",
              "      <td>2.0</td>\n",
              "      <td>3.0</td>\n",
              "      <td>2.0</td>\n",
              "      <td>0.67</td>\n",
              "      <td>8.0</td>\n",
              "      <td>3.0</td>\n",
              "      <td>1.0</td>\n",
              "      <td>17.0</td>\n",
              "      <td>1.0</td>\n",
              "      <td>15.99</td>\n",
              "      <td>12.44</td>\n",
              "      <td>2476.90</td>\n",
              "      <td>0.07</td>\n",
              "      <td>44.0</td>\n",
              "      <td>0.08</td>\n",
              "      <td>137.61</td>\n",
              "      <td>199.04</td>\n",
              "      <td>1.00</td>\n",
              "      <td>2.0</td>\n",
              "      <td>3.0</td>\n",
              "      <td>7.0</td>\n",
              "      <td>0.13</td>\n",
              "      <td>16.0</td>\n",
              "      <td>28.0</td>\n",
              "      <td>9.0</td>\n",
              "      <td>14.0</td>\n",
              "      <td>23.0</td>\n",
              "      <td>10.53</td>\n",
              "      <td>18.0</td>\n",
              "    </tr>\n",
              "    <tr>\n",
              "      <th>3</th>\n",
              "      <td>4.0</td>\n",
              "      <td>5.0</td>\n",
              "      <td>1.0</td>\n",
              "      <td>0.0</td>\n",
              "      <td>0.0</td>\n",
              "      <td>8.0</td>\n",
              "      <td>3.0</td>\n",
              "      <td>0.30</td>\n",
              "      <td>4.0</td>\n",
              "      <td>2.0</td>\n",
              "      <td>2.0</td>\n",
              "      <td>0.67</td>\n",
              "      <td>11.0</td>\n",
              "      <td>1.0</td>\n",
              "      <td>0.0</td>\n",
              "      <td>10.0</td>\n",
              "      <td>0.0</td>\n",
              "      <td>21.06</td>\n",
              "      <td>5.85</td>\n",
              "      <td>720.66</td>\n",
              "      <td>0.04</td>\n",
              "      <td>29.0</td>\n",
              "      <td>0.17</td>\n",
              "      <td>40.04</td>\n",
              "      <td>123.19</td>\n",
              "      <td>0.33</td>\n",
              "      <td>2.0</td>\n",
              "      <td>4.0</td>\n",
              "      <td>10.0</td>\n",
              "      <td>0.19</td>\n",
              "      <td>13.0</td>\n",
              "      <td>16.0</td>\n",
              "      <td>10.0</td>\n",
              "      <td>9.0</td>\n",
              "      <td>16.0</td>\n",
              "      <td>0.00</td>\n",
              "      <td>10.0</td>\n",
              "    </tr>\n",
              "    <tr>\n",
              "      <th>4</th>\n",
              "      <td>7.0</td>\n",
              "      <td>5.0</td>\n",
              "      <td>1.0</td>\n",
              "      <td>3.0</td>\n",
              "      <td>0.0</td>\n",
              "      <td>0.0</td>\n",
              "      <td>3.0</td>\n",
              "      <td>0.15</td>\n",
              "      <td>0.0</td>\n",
              "      <td>0.0</td>\n",
              "      <td>1.0</td>\n",
              "      <td>0.33</td>\n",
              "      <td>11.0</td>\n",
              "      <td>1.0</td>\n",
              "      <td>0.0</td>\n",
              "      <td>17.0</td>\n",
              "      <td>2.0</td>\n",
              "      <td>21.09</td>\n",
              "      <td>13.00</td>\n",
              "      <td>3563.68</td>\n",
              "      <td>0.09</td>\n",
              "      <td>72.0</td>\n",
              "      <td>0.08</td>\n",
              "      <td>197.98</td>\n",
              "      <td>274.13</td>\n",
              "      <td>0.33</td>\n",
              "      <td>0.0</td>\n",
              "      <td>0.0</td>\n",
              "      <td>10.0</td>\n",
              "      <td>0.11</td>\n",
              "      <td>26.0</td>\n",
              "      <td>46.0</td>\n",
              "      <td>7.0</td>\n",
              "      <td>7.0</td>\n",
              "      <td>28.0</td>\n",
              "      <td>15.00</td>\n",
              "      <td>20.0</td>\n",
              "    </tr>\n",
              "  </tbody>\n",
              "</table>\n",
              "</div>"
            ],
            "text/plain": [
              "   LOC_BLANK  BRANCH_COUNT  ...  PERCENT_COMMENTS  LOC_TOTAL\n",
              "0       17.0          11.0  ...             31.25       24.0\n",
              "1        2.0           9.0  ...             10.00        9.0\n",
              "2        2.0           5.0  ...             10.53       18.0\n",
              "3        4.0           5.0  ...              0.00       10.0\n",
              "4        7.0           5.0  ...             15.00       20.0\n",
              "\n",
              "[5 rows x 37 columns]"
            ]
          },
          "metadata": {
            "tags": []
          },
          "execution_count": 13
        }
      ]
    },
    {
      "cell_type": "code",
      "metadata": {
        "id": "UHxesEUZJnTH",
        "colab_type": "code",
        "outputId": "40ab83b0-8237-4f27-8016-d667fb8e76ac",
        "colab": {
          "base_uri": "https://localhost:8080/",
          "height": 697
        }
      },
      "source": [
        "col_list = []\n",
        "for col in df:\n",
        "    col_list.append(col)\n",
        "col_list"
      ],
      "execution_count": 0,
      "outputs": [
        {
          "output_type": "execute_result",
          "data": {
            "text/plain": [
              "['LOC_BLANK',\n",
              " 'BRANCH_COUNT',\n",
              " 'CALL_PAIRS',\n",
              " 'LOC_CODE_AND_COMMENT',\n",
              " 'LOC_COMMENTS',\n",
              " 'CONDITION_COUNT',\n",
              " 'CYCLOMATIC_COMPLEXITY',\n",
              " 'CYCLOMATIC_DENSITY',\n",
              " 'DECISION_COUNT',\n",
              " 'DECISION_DENSITY',\n",
              " 'DESIGN_COMPLEXITY',\n",
              " 'DESIGN_DENSITY',\n",
              " 'EDGE_COUNT',\n",
              " 'ESSENTIAL_COMPLEXITY',\n",
              " 'ESSENTIAL_DENSITY',\n",
              " 'LOC_EXECUTABLE',\n",
              " 'PARAMETER_COUNT',\n",
              " 'HALSTEAD_CONTENT',\n",
              " 'HALSTEAD_DIFFICULTY',\n",
              " 'HALSTEAD_EFFORT',\n",
              " 'HALSTEAD_ERROR_EST',\n",
              " 'HALSTEAD_LENGTH',\n",
              " 'HALSTEAD_LEVEL',\n",
              " 'HALSTEAD_PROG_TIME',\n",
              " 'HALSTEAD_VOLUME',\n",
              " 'MAINTENANCE_SEVERITY',\n",
              " 'MODIFIED_CONDITION_COUNT',\n",
              " 'MULTIPLE_CONDITION_COUNT',\n",
              " 'NODE_COUNT',\n",
              " 'NORMALIZED_CYLOMATIC_COMPLEXITY',\n",
              " 'NUM_OPERANDS',\n",
              " 'NUM_OPERATORS',\n",
              " 'NUM_UNIQUE_OPERANDS',\n",
              " 'NUM_UNIQUE_OPERATORS',\n",
              " 'NUMBER_OF_LINES',\n",
              " 'PERCENT_COMMENTS',\n",
              " 'LOC_TOTAL']"
            ]
          },
          "metadata": {
            "tags": []
          },
          "execution_count": 29
        }
      ]
    },
    {
      "cell_type": "code",
      "metadata": {
        "id": "fzgqLSvIPHhY",
        "colab_type": "code",
        "outputId": "d054d5ef-f479-4310-a550-a5c330f512a3",
        "colab": {
          "base_uri": "https://localhost:8080/",
          "height": 550
        }
      },
      "source": [
        "col_list_dd = []\n",
        "for col in dd:\n",
        "    col_list_dd.append(col)\n",
        "col_list_dd"
      ],
      "execution_count": 0,
      "outputs": [
        {
          "output_type": "execute_result",
          "data": {
            "text/plain": [
              "['total_loc',\n",
              " 'blank_loc',\n",
              " 'comment_loc',\n",
              " 'code_and_comment_loc',\n",
              " 'executable_loc',\n",
              " 'unique_operands',\n",
              " 'unique_operators',\n",
              " 'total_operands',\n",
              " 'total_operators',\n",
              " 'halstead_vocabulary',\n",
              " 'halstead_length',\n",
              " 'halstead_volume',\n",
              " 'halstead_level',\n",
              " 'halstead_difficulty',\n",
              " 'halstead_effort',\n",
              " 'halstead_error',\n",
              " 'halstead_time',\n",
              " 'branch_count',\n",
              " 'decision_count',\n",
              " 'call_pairs',\n",
              " 'condition_count',\n",
              " 'multiple_condition_count',\n",
              " 'cyclomatic_complexity',\n",
              " 'cyclomatic_density',\n",
              " 'decision_density',\n",
              " 'design_complexity',\n",
              " 'design_density',\n",
              " 'normalized_cyclomatic_complexity',\n",
              " 'formal_parameters']"
            ]
          },
          "metadata": {
            "tags": []
          },
          "execution_count": 30
        }
      ]
    },
    {
      "cell_type": "code",
      "metadata": {
        "id": "mCbwqyBmQcld",
        "colab_type": "code",
        "colab": {}
      },
      "source": [
        "%matplotlib inline"
      ],
      "execution_count": 0,
      "outputs": []
    },
    {
      "cell_type": "code",
      "metadata": {
        "id": "qo1CluRLQfB9",
        "colab_type": "code",
        "outputId": "2bfcf710-c02f-47bd-d5ed-d705149d7ae6",
        "colab": {
          "base_uri": "https://localhost:8080/",
          "height": 226
        }
      },
      "source": [
        "df.head()"
      ],
      "execution_count": 0,
      "outputs": [
        {
          "output_type": "execute_result",
          "data": {
            "text/html": [
              "<div>\n",
              "<style scoped>\n",
              "    .dataframe tbody tr th:only-of-type {\n",
              "        vertical-align: middle;\n",
              "    }\n",
              "\n",
              "    .dataframe tbody tr th {\n",
              "        vertical-align: top;\n",
              "    }\n",
              "\n",
              "    .dataframe thead th {\n",
              "        text-align: right;\n",
              "    }\n",
              "</style>\n",
              "<table border=\"1\" class=\"dataframe\">\n",
              "  <thead>\n",
              "    <tr style=\"text-align: right;\">\n",
              "      <th></th>\n",
              "      <th>LOC_BLANK</th>\n",
              "      <th>BRANCH_COUNT</th>\n",
              "      <th>CALL_PAIRS</th>\n",
              "      <th>LOC_CODE_AND_COMMENT</th>\n",
              "      <th>LOC_COMMENTS</th>\n",
              "      <th>CONDITION_COUNT</th>\n",
              "      <th>CYCLOMATIC_COMPLEXITY</th>\n",
              "      <th>CYCLOMATIC_DENSITY</th>\n",
              "      <th>DECISION_COUNT</th>\n",
              "      <th>DECISION_DENSITY</th>\n",
              "      <th>DESIGN_COMPLEXITY</th>\n",
              "      <th>DESIGN_DENSITY</th>\n",
              "      <th>EDGE_COUNT</th>\n",
              "      <th>ESSENTIAL_COMPLEXITY</th>\n",
              "      <th>ESSENTIAL_DENSITY</th>\n",
              "      <th>LOC_EXECUTABLE</th>\n",
              "      <th>PARAMETER_COUNT</th>\n",
              "      <th>HALSTEAD_CONTENT</th>\n",
              "      <th>HALSTEAD_DIFFICULTY</th>\n",
              "      <th>HALSTEAD_EFFORT</th>\n",
              "      <th>HALSTEAD_ERROR_EST</th>\n",
              "      <th>HALSTEAD_LENGTH</th>\n",
              "      <th>HALSTEAD_LEVEL</th>\n",
              "      <th>HALSTEAD_PROG_TIME</th>\n",
              "      <th>HALSTEAD_VOLUME</th>\n",
              "      <th>MAINTENANCE_SEVERITY</th>\n",
              "      <th>MODIFIED_CONDITION_COUNT</th>\n",
              "      <th>MULTIPLE_CONDITION_COUNT</th>\n",
              "      <th>NODE_COUNT</th>\n",
              "      <th>NORMALIZED_CYLOMATIC_COMPLEXITY</th>\n",
              "      <th>NUM_OPERANDS</th>\n",
              "      <th>NUM_OPERATORS</th>\n",
              "      <th>NUM_UNIQUE_OPERANDS</th>\n",
              "      <th>NUM_UNIQUE_OPERATORS</th>\n",
              "      <th>NUMBER_OF_LINES</th>\n",
              "      <th>PERCENT_COMMENTS</th>\n",
              "      <th>LOC_TOTAL</th>\n",
              "    </tr>\n",
              "  </thead>\n",
              "  <tbody>\n",
              "    <tr>\n",
              "      <th>0</th>\n",
              "      <td>17.0</td>\n",
              "      <td>11.0</td>\n",
              "      <td>5.0</td>\n",
              "      <td>2.0</td>\n",
              "      <td>8.0</td>\n",
              "      <td>20.0</td>\n",
              "      <td>6.0</td>\n",
              "      <td>0.25</td>\n",
              "      <td>10.0</td>\n",
              "      <td>2.0</td>\n",
              "      <td>4.0</td>\n",
              "      <td>0.67</td>\n",
              "      <td>29.0</td>\n",
              "      <td>1.0</td>\n",
              "      <td>0.0</td>\n",
              "      <td>22.0</td>\n",
              "      <td>7.0</td>\n",
              "      <td>37.84</td>\n",
              "      <td>13.83</td>\n",
              "      <td>7233.63</td>\n",
              "      <td>0.17</td>\n",
              "      <td>102.0</td>\n",
              "      <td>0.07</td>\n",
              "      <td>401.87</td>\n",
              "      <td>523.19</td>\n",
              "      <td>0.17</td>\n",
              "      <td>5.0</td>\n",
              "      <td>10.0</td>\n",
              "      <td>25.0</td>\n",
              "      <td>0.11</td>\n",
              "      <td>53.0</td>\n",
              "      <td>49.0</td>\n",
              "      <td>23.0</td>\n",
              "      <td>12.0</td>\n",
              "      <td>57.0</td>\n",
              "      <td>31.25</td>\n",
              "      <td>24.0</td>\n",
              "    </tr>\n",
              "    <tr>\n",
              "      <th>1</th>\n",
              "      <td>2.0</td>\n",
              "      <td>9.0</td>\n",
              "      <td>3.0</td>\n",
              "      <td>0.0</td>\n",
              "      <td>1.0</td>\n",
              "      <td>16.0</td>\n",
              "      <td>5.0</td>\n",
              "      <td>0.56</td>\n",
              "      <td>6.0</td>\n",
              "      <td>2.0</td>\n",
              "      <td>3.0</td>\n",
              "      <td>0.60</td>\n",
              "      <td>17.0</td>\n",
              "      <td>4.0</td>\n",
              "      <td>0.0</td>\n",
              "      <td>9.0</td>\n",
              "      <td>1.0</td>\n",
              "      <td>12.50</td>\n",
              "      <td>13.00</td>\n",
              "      <td>2112.70</td>\n",
              "      <td>0.05</td>\n",
              "      <td>37.0</td>\n",
              "      <td>0.08</td>\n",
              "      <td>117.37</td>\n",
              "      <td>162.52</td>\n",
              "      <td>0.80</td>\n",
              "      <td>5.0</td>\n",
              "      <td>8.0</td>\n",
              "      <td>14.0</td>\n",
              "      <td>0.36</td>\n",
              "      <td>13.0</td>\n",
              "      <td>24.0</td>\n",
              "      <td>7.0</td>\n",
              "      <td>14.0</td>\n",
              "      <td>14.0</td>\n",
              "      <td>10.00</td>\n",
              "      <td>9.0</td>\n",
              "    </tr>\n",
              "    <tr>\n",
              "      <th>2</th>\n",
              "      <td>2.0</td>\n",
              "      <td>5.0</td>\n",
              "      <td>1.0</td>\n",
              "      <td>1.0</td>\n",
              "      <td>1.0</td>\n",
              "      <td>6.0</td>\n",
              "      <td>3.0</td>\n",
              "      <td>0.17</td>\n",
              "      <td>2.0</td>\n",
              "      <td>3.0</td>\n",
              "      <td>2.0</td>\n",
              "      <td>0.67</td>\n",
              "      <td>8.0</td>\n",
              "      <td>3.0</td>\n",
              "      <td>1.0</td>\n",
              "      <td>17.0</td>\n",
              "      <td>1.0</td>\n",
              "      <td>15.99</td>\n",
              "      <td>12.44</td>\n",
              "      <td>2476.90</td>\n",
              "      <td>0.07</td>\n",
              "      <td>44.0</td>\n",
              "      <td>0.08</td>\n",
              "      <td>137.61</td>\n",
              "      <td>199.04</td>\n",
              "      <td>1.00</td>\n",
              "      <td>2.0</td>\n",
              "      <td>3.0</td>\n",
              "      <td>7.0</td>\n",
              "      <td>0.13</td>\n",
              "      <td>16.0</td>\n",
              "      <td>28.0</td>\n",
              "      <td>9.0</td>\n",
              "      <td>14.0</td>\n",
              "      <td>23.0</td>\n",
              "      <td>10.53</td>\n",
              "      <td>18.0</td>\n",
              "    </tr>\n",
              "    <tr>\n",
              "      <th>3</th>\n",
              "      <td>4.0</td>\n",
              "      <td>5.0</td>\n",
              "      <td>1.0</td>\n",
              "      <td>0.0</td>\n",
              "      <td>0.0</td>\n",
              "      <td>8.0</td>\n",
              "      <td>3.0</td>\n",
              "      <td>0.30</td>\n",
              "      <td>4.0</td>\n",
              "      <td>2.0</td>\n",
              "      <td>2.0</td>\n",
              "      <td>0.67</td>\n",
              "      <td>11.0</td>\n",
              "      <td>1.0</td>\n",
              "      <td>0.0</td>\n",
              "      <td>10.0</td>\n",
              "      <td>0.0</td>\n",
              "      <td>21.06</td>\n",
              "      <td>5.85</td>\n",
              "      <td>720.66</td>\n",
              "      <td>0.04</td>\n",
              "      <td>29.0</td>\n",
              "      <td>0.17</td>\n",
              "      <td>40.04</td>\n",
              "      <td>123.19</td>\n",
              "      <td>0.33</td>\n",
              "      <td>2.0</td>\n",
              "      <td>4.0</td>\n",
              "      <td>10.0</td>\n",
              "      <td>0.19</td>\n",
              "      <td>13.0</td>\n",
              "      <td>16.0</td>\n",
              "      <td>10.0</td>\n",
              "      <td>9.0</td>\n",
              "      <td>16.0</td>\n",
              "      <td>0.00</td>\n",
              "      <td>10.0</td>\n",
              "    </tr>\n",
              "    <tr>\n",
              "      <th>4</th>\n",
              "      <td>7.0</td>\n",
              "      <td>5.0</td>\n",
              "      <td>1.0</td>\n",
              "      <td>3.0</td>\n",
              "      <td>0.0</td>\n",
              "      <td>0.0</td>\n",
              "      <td>3.0</td>\n",
              "      <td>0.15</td>\n",
              "      <td>0.0</td>\n",
              "      <td>0.0</td>\n",
              "      <td>1.0</td>\n",
              "      <td>0.33</td>\n",
              "      <td>11.0</td>\n",
              "      <td>1.0</td>\n",
              "      <td>0.0</td>\n",
              "      <td>17.0</td>\n",
              "      <td>2.0</td>\n",
              "      <td>21.09</td>\n",
              "      <td>13.00</td>\n",
              "      <td>3563.68</td>\n",
              "      <td>0.09</td>\n",
              "      <td>72.0</td>\n",
              "      <td>0.08</td>\n",
              "      <td>197.98</td>\n",
              "      <td>274.13</td>\n",
              "      <td>0.33</td>\n",
              "      <td>0.0</td>\n",
              "      <td>0.0</td>\n",
              "      <td>10.0</td>\n",
              "      <td>0.11</td>\n",
              "      <td>26.0</td>\n",
              "      <td>46.0</td>\n",
              "      <td>7.0</td>\n",
              "      <td>7.0</td>\n",
              "      <td>28.0</td>\n",
              "      <td>15.00</td>\n",
              "      <td>20.0</td>\n",
              "    </tr>\n",
              "  </tbody>\n",
              "</table>\n",
              "</div>"
            ],
            "text/plain": [
              "   LOC_BLANK  BRANCH_COUNT  ...  PERCENT_COMMENTS  LOC_TOTAL\n",
              "0       17.0          11.0  ...             31.25       24.0\n",
              "1        2.0           9.0  ...             10.00        9.0\n",
              "2        2.0           5.0  ...             10.53       18.0\n",
              "3        4.0           5.0  ...              0.00       10.0\n",
              "4        7.0           5.0  ...             15.00       20.0\n",
              "\n",
              "[5 rows x 37 columns]"
            ]
          },
          "metadata": {
            "tags": []
          },
          "execution_count": 35
        }
      ]
    },
    {
      "cell_type": "code",
      "metadata": {
        "id": "9BpKSsAYR6Sz",
        "colab_type": "code",
        "colab": {}
      },
      "source": [
        "def wqw(x):\n",
        "     return x.decode(\"utf-8\")#only necessary if there is a column with a b' in it"
      ],
      "execution_count": 0,
      "outputs": []
    },
    {
      "cell_type": "code",
      "metadata": {
        "id": "AFA5nhUBQ4Jc",
        "colab_type": "code",
        "colab": {}
      },
      "source": [
        "dfy['c']=dfy['c'].apply(wqw)# like here in column c there are entries with b' in them"
      ],
      "execution_count": 0,
      "outputs": []
    },
    {
      "cell_type": "code",
      "metadata": {
        "id": "pOYe61smQhSM",
        "colab_type": "code",
        "outputId": "77b88ab5-2c2a-426b-93fc-300acedc04f2",
        "colab": {
          "base_uri": "https://localhost:8080/",
          "height": 206
        }
      },
      "source": [
        "dfy.head()"
      ],
      "execution_count": 0,
      "outputs": [
        {
          "output_type": "execute_result",
          "data": {
            "text/html": [
              "<div>\n",
              "<style scoped>\n",
              "    .dataframe tbody tr th:only-of-type {\n",
              "        vertical-align: middle;\n",
              "    }\n",
              "\n",
              "    .dataframe tbody tr th {\n",
              "        vertical-align: top;\n",
              "    }\n",
              "\n",
              "    .dataframe thead th {\n",
              "        text-align: right;\n",
              "    }\n",
              "</style>\n",
              "<table border=\"1\" class=\"dataframe\">\n",
              "  <thead>\n",
              "    <tr style=\"text-align: right;\">\n",
              "      <th></th>\n",
              "      <th>c</th>\n",
              "    </tr>\n",
              "  </thead>\n",
              "  <tbody>\n",
              "    <tr>\n",
              "      <th>0</th>\n",
              "      <td>FALSE</td>\n",
              "    </tr>\n",
              "    <tr>\n",
              "      <th>1</th>\n",
              "      <td>FALSE</td>\n",
              "    </tr>\n",
              "    <tr>\n",
              "      <th>2</th>\n",
              "      <td>FALSE</td>\n",
              "    </tr>\n",
              "    <tr>\n",
              "      <th>3</th>\n",
              "      <td>FALSE</td>\n",
              "    </tr>\n",
              "    <tr>\n",
              "      <th>4</th>\n",
              "      <td>FALSE</td>\n",
              "    </tr>\n",
              "  </tbody>\n",
              "</table>\n",
              "</div>"
            ],
            "text/plain": [
              "       c\n",
              "0  FALSE\n",
              "1  FALSE\n",
              "2  FALSE\n",
              "3  FALSE\n",
              "4  FALSE"
            ]
          },
          "metadata": {
            "tags": []
          },
          "execution_count": 50
        }
      ]
    },
    {
      "cell_type": "code",
      "metadata": {
        "id": "7TccjltNSQgR",
        "colab_type": "code",
        "colab": {}
      },
      "source": [
        "ddy['defects']=ddy['defects'].apply(wqw)"
      ],
      "execution_count": 0,
      "outputs": []
    },
    {
      "cell_type": "code",
      "metadata": {
        "id": "udjmIUhMSXc_",
        "colab_type": "code",
        "outputId": "9df6ae4e-3d98-4a32-ac62-6946b9a0a888",
        "colab": {
          "base_uri": "https://localhost:8080/",
          "height": 206
        }
      },
      "source": [
        "ddy.head()"
      ],
      "execution_count": 0,
      "outputs": [
        {
          "output_type": "execute_result",
          "data": {
            "text/html": [
              "<div>\n",
              "<style scoped>\n",
              "    .dataframe tbody tr th:only-of-type {\n",
              "        vertical-align: middle;\n",
              "    }\n",
              "\n",
              "    .dataframe tbody tr th {\n",
              "        vertical-align: top;\n",
              "    }\n",
              "\n",
              "    .dataframe thead th {\n",
              "        text-align: right;\n",
              "    }\n",
              "</style>\n",
              "<table border=\"1\" class=\"dataframe\">\n",
              "  <thead>\n",
              "    <tr style=\"text-align: right;\">\n",
              "      <th></th>\n",
              "      <th>defects</th>\n",
              "    </tr>\n",
              "  </thead>\n",
              "  <tbody>\n",
              "    <tr>\n",
              "      <th>0</th>\n",
              "      <td>true</td>\n",
              "    </tr>\n",
              "    <tr>\n",
              "      <th>1</th>\n",
              "      <td>false</td>\n",
              "    </tr>\n",
              "    <tr>\n",
              "      <th>2</th>\n",
              "      <td>false</td>\n",
              "    </tr>\n",
              "    <tr>\n",
              "      <th>3</th>\n",
              "      <td>false</td>\n",
              "    </tr>\n",
              "    <tr>\n",
              "      <th>4</th>\n",
              "      <td>false</td>\n",
              "    </tr>\n",
              "  </tbody>\n",
              "</table>\n",
              "</div>"
            ],
            "text/plain": [
              "  defects\n",
              "0    true\n",
              "1   false\n",
              "2   false\n",
              "3   false\n",
              "4   false"
            ]
          },
          "metadata": {
            "tags": []
          },
          "execution_count": 52
        }
      ]
    },
    {
      "cell_type": "code",
      "metadata": {
        "id": "zd9BTcMsSd3J",
        "colab_type": "code",
        "colab": {}
      },
      "source": [
        "dfy['c'] = dfy['c'].str.lower()"
      ],
      "execution_count": 0,
      "outputs": []
    },
    {
      "cell_type": "code",
      "metadata": {
        "id": "sQ1pIVIiSiS7",
        "colab_type": "code",
        "outputId": "dd5399ec-70da-44dd-fbda-1eaf8a636b8b",
        "colab": {
          "base_uri": "https://localhost:8080/",
          "height": 206
        }
      },
      "source": [
        "dfy.head()"
      ],
      "execution_count": 0,
      "outputs": [
        {
          "output_type": "execute_result",
          "data": {
            "text/html": [
              "<div>\n",
              "<style scoped>\n",
              "    .dataframe tbody tr th:only-of-type {\n",
              "        vertical-align: middle;\n",
              "    }\n",
              "\n",
              "    .dataframe tbody tr th {\n",
              "        vertical-align: top;\n",
              "    }\n",
              "\n",
              "    .dataframe thead th {\n",
              "        text-align: right;\n",
              "    }\n",
              "</style>\n",
              "<table border=\"1\" class=\"dataframe\">\n",
              "  <thead>\n",
              "    <tr style=\"text-align: right;\">\n",
              "      <th></th>\n",
              "      <th>c</th>\n",
              "    </tr>\n",
              "  </thead>\n",
              "  <tbody>\n",
              "    <tr>\n",
              "      <th>0</th>\n",
              "      <td>false</td>\n",
              "    </tr>\n",
              "    <tr>\n",
              "      <th>1</th>\n",
              "      <td>false</td>\n",
              "    </tr>\n",
              "    <tr>\n",
              "      <th>2</th>\n",
              "      <td>false</td>\n",
              "    </tr>\n",
              "    <tr>\n",
              "      <th>3</th>\n",
              "      <td>false</td>\n",
              "    </tr>\n",
              "    <tr>\n",
              "      <th>4</th>\n",
              "      <td>false</td>\n",
              "    </tr>\n",
              "  </tbody>\n",
              "</table>\n",
              "</div>"
            ],
            "text/plain": [
              "       c\n",
              "0  false\n",
              "1  false\n",
              "2  false\n",
              "3  false\n",
              "4  false"
            ]
          },
          "metadata": {
            "tags": []
          },
          "execution_count": 54
        }
      ]
    },
    {
      "cell_type": "code",
      "metadata": {
        "id": "emHzxX7dPSbI",
        "colab_type": "code",
        "outputId": "8929d4d5-9897-49ac-eee9-ebd5b5abbcf1",
        "colab": {
          "base_uri": "https://localhost:8080/",
          "height": 450
        }
      },
      "source": [
        "import pandas as pd\n",
        "import numpy as np\n",
        "from sklearn.ensemble import ExtraTreesClassifier\n",
        "import matplotlib.pyplot as plt\n",
        "model = ExtraTreesClassifier()\n",
        "model.fit(df,dfy['c'])\n",
        "print(model.feature_importances_) #use inbuilt class feature_importances of tree based classifiers\n",
        "#plot graph of feature importances for better visualization\n",
        "feat_importances = pd.Series(model.feature_importances_, index=df.columns)\n",
        "feat_importances.nlargest(10).plot(kind='barh')#to show only top 10 features\n",
        "plt.show()"
      ],
      "execution_count": 0,
      "outputs": [
        {
          "output_type": "stream",
          "text": [
            "/usr/local/lib/python3.6/dist-packages/sklearn/ensemble/forest.py:245: FutureWarning: The default value of n_estimators will change from 10 in version 0.20 to 100 in 0.22.\n",
            "  \"10 in version 0.20 to 100 in 0.22.\", FutureWarning)\n"
          ],
          "name": "stderr"
        },
        {
          "output_type": "stream",
          "text": [
            "[0.03303879 0.01022666 0.02816635 0.13644215 0.04710366 0.02421783\n",
            " 0.01069392 0.02896806 0.01031289 0.0220227  0.02338495 0.01424225\n",
            " 0.02000838 0.01372785 0.00263785 0.01991213 0.02359948 0.02276769\n",
            " 0.02697386 0.02443355 0.02203887 0.02982345 0.01944033 0.01890343\n",
            " 0.02621944 0.02292584 0.01245602 0.02335534 0.02817214 0.02757738\n",
            " 0.02044484 0.02495752 0.02026379 0.03104341 0.02303024 0.07579363\n",
            " 0.03067331]\n"
          ],
          "name": "stdout"
        },
        {
          "output_type": "display_data",
          "data": {
            "image/png": "[encoded data removed]",
            "text/plain": [
              "<Figure size 432x288 with 1 Axes>"
            ]
          },
          "metadata": {
            "tags": []
          }
        }
      ]
    },
    {
      "cell_type": "code",
      "metadata": {
        "id": "PnXNW_CwTo_L",
        "colab_type": "code",
        "colab": {}
      },
      "source": [
        "dfy=dfy.rename(columns={\"c\": \"defects\"})"
      ],
      "execution_count": 0,
      "outputs": []
    },
    {
      "cell_type": "code",
      "metadata": {
        "id": "z_VNEEr9UINL",
        "colab_type": "code",
        "colab": {}
      },
      "source": [
        "train=df[['LOC_CODE_AND_COMMENT','PERCENT_COMMENTS','LOC_COMMENTS','LOC_BLANK','NUM_UNIQUE_OPERATORS','LOC_TOTAL','HALSTEAD_LENGTH','CYCLOMATIC_DENSITY','NODE_COUNT','CALL_PAIRS']]"
      ],
      "execution_count": 0,
      "outputs": []
    },
    {
      "cell_type": "code",
      "metadata": {
        "id": "sEscFBs4U8Li",
        "colab_type": "code",
        "outputId": "872421e8-e7db-419d-fc01-dfb2257d29d0",
        "colab": {
          "base_uri": "https://localhost:8080/",
          "height": 226
        }
      },
      "source": [
        "train.head()"
      ],
      "execution_count": 0,
      "outputs": [
        {
          "output_type": "execute_result",
          "data": {
            "text/html": [
              "<div>\n",
              "<style scoped>\n",
              "    .dataframe tbody tr th:only-of-type {\n",
              "        vertical-align: middle;\n",
              "    }\n",
              "\n",
              "    .dataframe tbody tr th {\n",
              "        vertical-align: top;\n",
              "    }\n",
              "\n",
              "    .dataframe thead th {\n",
              "        text-align: right;\n",
              "    }\n",
              "</style>\n",
              "<table border=\"1\" class=\"dataframe\">\n",
              "  <thead>\n",
              "    <tr style=\"text-align: right;\">\n",
              "      <th></th>\n",
              "      <th>LOC_CODE_AND_COMMENT</th>\n",
              "      <th>PERCENT_COMMENTS</th>\n",
              "      <th>LOC_COMMENTS</th>\n",
              "      <th>LOC_BLANK</th>\n",
              "      <th>NUM_UNIQUE_OPERATORS</th>\n",
              "      <th>LOC_TOTAL</th>\n",
              "      <th>HALSTEAD_LENGTH</th>\n",
              "      <th>CYCLOMATIC_DENSITY</th>\n",
              "      <th>NODE_COUNT</th>\n",
              "      <th>CALL_PAIRS</th>\n",
              "    </tr>\n",
              "  </thead>\n",
              "  <tbody>\n",
              "    <tr>\n",
              "      <th>0</th>\n",
              "      <td>2.0</td>\n",
              "      <td>31.25</td>\n",
              "      <td>8.0</td>\n",
              "      <td>17.0</td>\n",
              "      <td>12.0</td>\n",
              "      <td>24.0</td>\n",
              "      <td>102.0</td>\n",
              "      <td>0.25</td>\n",
              "      <td>25.0</td>\n",
              "      <td>5.0</td>\n",
              "    </tr>\n",
              "    <tr>\n",
              "      <th>1</th>\n",
              "      <td>0.0</td>\n",
              "      <td>10.00</td>\n",
              "      <td>1.0</td>\n",
              "      <td>2.0</td>\n",
              "      <td>14.0</td>\n",
              "      <td>9.0</td>\n",
              "      <td>37.0</td>\n",
              "      <td>0.56</td>\n",
              "      <td>14.0</td>\n",
              "      <td>3.0</td>\n",
              "    </tr>\n",
              "    <tr>\n",
              "      <th>2</th>\n",
              "      <td>1.0</td>\n",
              "      <td>10.53</td>\n",
              "      <td>1.0</td>\n",
              "      <td>2.0</td>\n",
              "      <td>14.0</td>\n",
              "      <td>18.0</td>\n",
              "      <td>44.0</td>\n",
              "      <td>0.17</td>\n",
              "      <td>7.0</td>\n",
              "      <td>1.0</td>\n",
              "    </tr>\n",
              "    <tr>\n",
              "      <th>3</th>\n",
              "      <td>0.0</td>\n",
              "      <td>0.00</td>\n",
              "      <td>0.0</td>\n",
              "      <td>4.0</td>\n",
              "      <td>9.0</td>\n",
              "      <td>10.0</td>\n",
              "      <td>29.0</td>\n",
              "      <td>0.30</td>\n",
              "      <td>10.0</td>\n",
              "      <td>1.0</td>\n",
              "    </tr>\n",
              "    <tr>\n",
              "      <th>4</th>\n",
              "      <td>3.0</td>\n",
              "      <td>15.00</td>\n",
              "      <td>0.0</td>\n",
              "      <td>7.0</td>\n",
              "      <td>7.0</td>\n",
              "      <td>20.0</td>\n",
              "      <td>72.0</td>\n",
              "      <td>0.15</td>\n",
              "      <td>10.0</td>\n",
              "      <td>1.0</td>\n",
              "    </tr>\n",
              "  </tbody>\n",
              "</table>\n",
              "</div>"
            ],
            "text/plain": [
              "   LOC_CODE_AND_COMMENT  PERCENT_COMMENTS  ...  NODE_COUNT  CALL_PAIRS\n",
              "0                   2.0             31.25  ...        25.0         5.0\n",
              "1                   0.0             10.00  ...        14.0         3.0\n",
              "2                   1.0             10.53  ...         7.0         1.0\n",
              "3                   0.0              0.00  ...        10.0         1.0\n",
              "4                   3.0             15.00  ...        10.0         1.0\n",
              "\n",
              "[5 rows x 10 columns]"
            ]
          },
          "metadata": {
            "tags": []
          },
          "execution_count": 62
        }
      ]
    },
    {
      "cell_type": "code",
      "metadata": {
        "id": "bSlKnxl4PWfB",
        "colab_type": "code",
        "outputId": "298a7936-a6f9-4a39-cfdb-15106bdf4e32",
        "colab": {
          "base_uri": "https://localhost:8080/",
          "height": 414
        }
      },
      "source": [
        "import pandas as pd\n",
        "import numpy as np\n",
        "from sklearn.ensemble import ExtraTreesClassifier\n",
        "import matplotlib.pyplot as plt\n",
        "model = ExtraTreesClassifier()\n",
        "model.fit(dd,ddy['defects'])\n",
        "print(model.feature_importances_) #use inbuilt class feature_importances of tree based classifiers\n",
        "#plot graph of feature importances for better visualization\n",
        "feat_importances = pd.Series(model.feature_importances_, index=dd.columns)\n",
        "feat_importances.nlargest(10).plot(kind='barh')\n",
        "plt.show()"
      ],
      "execution_count": 0,
      "outputs": [
        {
          "output_type": "stream",
          "text": [
            "[0.0176064  0.03003675 0.01738657 0.02299985 0.02923618 0.0110256\n",
            " 0.0127757  0.03804947 0.11010524 0.06703965 0.08402144 0.0078679\n",
            " 0.00486451 0.02207955 0.07429257 0.05254915 0.07993655 0.04445027\n",
            " 0.00103561 0.02832528 0.03009922 0.01984519 0.07003788 0.03340909\n",
            " 0.01431818 0.00702421 0.05477652 0.01480548 0.        ]\n"
          ],
          "name": "stdout"
        },
        {
          "output_type": "stream",
          "text": [
            "/usr/local/lib/python3.6/dist-packages/sklearn/ensemble/forest.py:245: FutureWarning: The default value of n_estimators will change from 10 in version 0.20 to 100 in 0.22.\n",
            "  \"10 in version 0.20 to 100 in 0.22.\", FutureWarning)\n"
          ],
          "name": "stderr"
        },
        {
          "output_type": "display_data",
          "data": {
            "image/png": "[encoded data removed]",
            "text/plain": [
              "<Figure size 432x288 with 1 Axes>"
            ]
          },
          "metadata": {
            "tags": []
          }
        }
      ]
    },
    {
      "cell_type": "code",
      "metadata": {
        "id": "yJKUcW34TXT2",
        "colab_type": "code",
        "colab": {}
      },
      "source": [
        "test=dd[['total_operators','halstead_length','halstead_time','halstead_effort','cyclomatic_complexity','halstead_vocabulary','design_density','halstead_error','branch_count','total_operands']]"
      ],
      "execution_count": 0,
      "outputs": []
    },
    {
      "cell_type": "code",
      "metadata": {
        "id": "kbDr_qwKVubC",
        "colab_type": "code",
        "outputId": "7cd2103b-a65f-46de-a721-012ca258a6dc",
        "colab": {
          "base_uri": "https://localhost:8080/",
          "height": 226
        }
      },
      "source": [
        "test.head()"
      ],
      "execution_count": 0,
      "outputs": [
        {
          "output_type": "execute_result",
          "data": {
            "text/html": [
              "<div>\n",
              "<style scoped>\n",
              "    .dataframe tbody tr th:only-of-type {\n",
              "        vertical-align: middle;\n",
              "    }\n",
              "\n",
              "    .dataframe tbody tr th {\n",
              "        vertical-align: top;\n",
              "    }\n",
              "\n",
              "    .dataframe thead th {\n",
              "        text-align: right;\n",
              "    }\n",
              "</style>\n",
              "<table border=\"1\" class=\"dataframe\">\n",
              "  <thead>\n",
              "    <tr style=\"text-align: right;\">\n",
              "      <th></th>\n",
              "      <th>total_operators</th>\n",
              "      <th>halstead_length</th>\n",
              "      <th>halstead_time</th>\n",
              "      <th>halstead_effort</th>\n",
              "      <th>cyclomatic_complexity</th>\n",
              "      <th>halstead_vocabulary</th>\n",
              "      <th>design_density</th>\n",
              "      <th>halstead_error</th>\n",
              "      <th>branch_count</th>\n",
              "      <th>total_operands</th>\n",
              "    </tr>\n",
              "  </thead>\n",
              "  <tbody>\n",
              "    <tr>\n",
              "      <th>0</th>\n",
              "      <td>366.0</td>\n",
              "      <td>611.0</td>\n",
              "      <td>3520.7407</td>\n",
              "      <td>63373.3333</td>\n",
              "      <td>37.0</td>\n",
              "      <td>161.0</td>\n",
              "      <td>1.1622</td>\n",
              "      <td>1.034700</td>\n",
              "      <td>94.0</td>\n",
              "      <td>245.0</td>\n",
              "    </tr>\n",
              "    <tr>\n",
              "      <th>1</th>\n",
              "      <td>8.0</td>\n",
              "      <td>14.0</td>\n",
              "      <td>8.0000</td>\n",
              "      <td>144.0000</td>\n",
              "      <td>1.0</td>\n",
              "      <td>10.0</td>\n",
              "      <td>0.0000</td>\n",
              "      <td>0.010667</td>\n",
              "      <td>0.0</td>\n",
              "      <td>6.0</td>\n",
              "    </tr>\n",
              "    <tr>\n",
              "      <th>2</th>\n",
              "      <td>484.0</td>\n",
              "      <td>821.0</td>\n",
              "      <td>7065.4671</td>\n",
              "      <td>127178.4080</td>\n",
              "      <td>64.0</td>\n",
              "      <td>148.0</td>\n",
              "      <td>0.0000</td>\n",
              "      <td>1.367300</td>\n",
              "      <td>190.0</td>\n",
              "      <td>337.0</td>\n",
              "    </tr>\n",
              "    <tr>\n",
              "      <th>3</th>\n",
              "      <td>17.0</td>\n",
              "      <td>32.0</td>\n",
              "      <td>14.0000</td>\n",
              "      <td>252.0000</td>\n",
              "      <td>1.0</td>\n",
              "      <td>14.0</td>\n",
              "      <td>2.0000</td>\n",
              "      <td>0.028000</td>\n",
              "      <td>0.0</td>\n",
              "      <td>15.0</td>\n",
              "    </tr>\n",
              "    <tr>\n",
              "      <th>4</th>\n",
              "      <td>13.0</td>\n",
              "      <td>24.0</td>\n",
              "      <td>9.9524</td>\n",
              "      <td>179.1429</td>\n",
              "      <td>1.0</td>\n",
              "      <td>11.0</td>\n",
              "      <td>1.0000</td>\n",
              "      <td>0.019000</td>\n",
              "      <td>0.0</td>\n",
              "      <td>11.0</td>\n",
              "    </tr>\n",
              "  </tbody>\n",
              "</table>\n",
              "</div>"
            ],
            "text/plain": [
              "   total_operators  halstead_length  ...  branch_count  total_operands\n",
              "0            366.0            611.0  ...          94.0           245.0\n",
              "1              8.0             14.0  ...           0.0             6.0\n",
              "2            484.0            821.0  ...         190.0           337.0\n",
              "3             17.0             32.0  ...           0.0            15.0\n",
              "4             13.0             24.0  ...           0.0            11.0\n",
              "\n",
              "[5 rows x 10 columns]"
            ]
          },
          "metadata": {
            "tags": []
          },
          "execution_count": 64
        }
      ]
    },
    {
      "cell_type": "markdown",
      "metadata": {
        "id": "O0-nM1CFVxq7",
        "colab_type": "text"
      },
      "source": [
        "test==> ddy                   train==>dfy"
      ]
    },
    {
      "cell_type": "code",
      "metadata": {
        "id": "CJ_tihXrVwt0",
        "colab_type": "code",
        "outputId": "af388b7a-7c14-41cb-9ea1-5ba536b6e2a5",
        "colab": {
          "base_uri": "https://localhost:8080/",
          "height": 35
        }
      },
      "source": [
        "test.shape"
      ],
      "execution_count": 0,
      "outputs": [
        {
          "output_type": "execute_result",
          "data": {
            "text/plain": [
              "(63, 10)"
            ]
          },
          "metadata": {
            "tags": []
          },
          "execution_count": 65
        }
      ]
    },
    {
      "cell_type": "code",
      "metadata": {
        "id": "l4FyJaCIWIG_",
        "colab_type": "code",
        "outputId": "5978d10d-5f2c-4901-ab33-ca580c832f1c",
        "colab": {
          "base_uri": "https://localhost:8080/",
          "height": 35
        }
      },
      "source": [
        "train.shape"
      ],
      "execution_count": 0,
      "outputs": [
        {
          "output_type": "execute_result",
          "data": {
            "text/plain": [
              "(1458, 10)"
            ]
          },
          "metadata": {
            "tags": []
          },
          "execution_count": 66
        }
      ]
    },
    {
      "cell_type": "code",
      "metadata": {
        "id": "AkQPCnIsWJGr",
        "colab_type": "code",
        "outputId": "ef2a85d8-0cd0-46e6-db4a-8c4a42458b1c",
        "colab": {
          "base_uri": "https://localhost:8080/",
          "height": 844
        }
      },
      "source": [
        "for i in train.columns:\n",
        "  pre=0\n",
        "  act=0\n",
        "  ww=\"\"\n",
        "  f=\"\"\n",
        "  for j in test.columns:\n",
        "    x=train[[i]]\n",
        "    y=test[[j]]\n",
        "    #print(x.head())\n",
        "    #x=x.sort_values(by =i,ascending=True)\n",
        "    #y=y.sort_values(by=j,ascending=True)\n",
        "    x=x[:63]\n",
        "    #print(x.head())\n",
        "    #print(y)\n",
        "    corr = x[i].corr(y[j])\n",
        "    if(abs(corr)>pre):\n",
        "      pre=abs(corr)\n",
        "      act=corr\n",
        "      ww=i\n",
        "      f=j\n",
        "    if(abs(corr)>0.1):\n",
        "      print(\"@@@@@@@@@@@@@@@@@@@@@@@@\")#prints all corr of a column if above 0.1\n",
        "      print(i)\n",
        "      print(j)\n",
        "      print(corr)\n",
        "      print(\"@@@@@@@@@@@@@@@@@@@@@@@@\")\n",
        "  if(pre>0.1):\n",
        "    print(\"XXXXXXXXXXXXXXXXXXXXXXXXXXXXXXXXXXX\")#prints max corr for a column if above 0.1\n",
        "    print(ww)\n",
        "    print(f)\n",
        "    print(act)\n",
        "    print(\"XXXXXXXXXXXXXXXXXXXXXXXXXXXXXXXXXXX\")\n"
      ],
      "execution_count": 0,
      "outputs": [
        {
          "output_type": "stream",
          "text": [
            "XXXXXXXXXXXXXXXXXXXXXXXXXXXXXXXXXXX\n",
            "LOC_CODE_AND_COMMENT\n",
            "halstead_vocabulary\n",
            "0.16675627315540123\n",
            "XXXXXXXXXXXXXXXXXXXXXXXXXXXXXXXXXXX\n",
            "XXXXXXXXXXXXXXXXXXXXXXXXXXXXXXXXXXX\n",
            "PERCENT_COMMENTS\n",
            "halstead_vocabulary\n",
            "0.2511225845000574\n",
            "XXXXXXXXXXXXXXXXXXXXXXXXXXXXXXXXXXX\n",
            "XXXXXXXXXXXXXXXXXXXXXXXXXXXXXXXXXXX\n",
            "LOC_COMMENTS\n",
            "halstead_time\n",
            "0.16245590612208766\n",
            "XXXXXXXXXXXXXXXXXXXXXXXXXXXXXXXXXXX\n",
            "XXXXXXXXXXXXXXXXXXXXXXXXXXXXXXXXXXX\n",
            "NUM_UNIQUE_OPERATORS\n",
            "total_operands\n",
            "0.10216897786619186\n",
            "XXXXXXXXXXXXXXXXXXXXXXXXXXXXXXXXXXX\n",
            "XXXXXXXXXXXXXXXXXXXXXXXXXXXXXXXXXXX\n",
            "LOC_TOTAL\n",
            "branch_count\n",
            "0.18577087240102957\n",
            "XXXXXXXXXXXXXXXXXXXXXXXXXXXXXXXXXXX\n",
            "XXXXXXXXXXXXXXXXXXXXXXXXXXXXXXXXXXX\n",
            "HALSTEAD_LENGTH\n",
            "branch_count\n",
            "0.18773263321287983\n",
            "XXXXXXXXXXXXXXXXXXXXXXXXXXXXXXXXXXX\n",
            "XXXXXXXXXXXXXXXXXXXXXXXXXXXXXXXXXXX\n",
            "CYCLOMATIC_DENSITY\n",
            "design_density\n",
            "-0.23592691888123896\n",
            "XXXXXXXXXXXXXXXXXXXXXXXXXXXXXXXXXXX\n",
            "XXXXXXXXXXXXXXXXXXXXXXXXXXXXXXXXXXX\n",
            "NODE_COUNT\n",
            "branch_count\n",
            "0.1415275808042328\n",
            "XXXXXXXXXXXXXXXXXXXXXXXXXXXXXXXXXXX\n",
            "XXXXXXXXXXXXXXXXXXXXXXXXXXXXXXXXXXX\n",
            "CALL_PAIRS\n",
            "halstead_time\n",
            "-0.18043148415036178\n",
            "XXXXXXXXXXXXXXXXXXXXXXXXXXXXXXXXXXX\n"
          ],
          "name": "stdout"
        }
      ]
    },
    {
      "cell_type": "markdown",
      "metadata": {
        "id": "S4kj0RtyX0zH",
        "colab_type": "text"
      },
      "source": [
        "\n",
        "\n",
        "\n",
        "```\n",
        "# This is formatted as code\n",
        "LOC_CODE_AND_COMMENT\n",
        "halstead_vocabulary\n",
        "PERCENT_COMMENTS\n",
        "halstead_effort\n",
        "LOC_COMMENTS\n",
        "halstead_length\n",
        "NUM_UNIQUE_OPERATORS\n",
        "total_operands\n",
        "LOC_TOTAL\n",
        "branch_count\n",
        "CYCLOMATIC_DENSITY\n",
        "design_density\n",
        "CALL_PAIRS\n",
        "halstead_time\n",
        "```\n",
        "\n"
      ]
    },
    {
      "cell_type": "code",
      "metadata": {
        "id": "gHA7Dyc2W22e",
        "colab_type": "code",
        "colab": {}
      },
      "source": [
        "train1=train[['LOC_CODE_AND_COMMENT','PERCENT_COMMENTS','LOC_COMMENTS','NUM_UNIQUE_OPERATORS','LOC_TOTAL','CYCLOMATIC_DENSITY','CALL_PAIRS']]"
      ],
      "execution_count": 0,
      "outputs": []
    },
    {
      "cell_type": "code",
      "metadata": {
        "id": "6bky9Dq-aOL8",
        "colab_type": "code",
        "outputId": "8955f932-8c3a-475d-a1a9-cc6597f96f8d",
        "colab": {
          "base_uri": "https://localhost:8080/",
          "height": 226
        }
      },
      "source": [
        "train1.head()"
      ],
      "execution_count": 0,
      "outputs": [
        {
          "output_type": "execute_result",
          "data": {
            "text/html": [
              "<div>\n",
              "<style scoped>\n",
              "    .dataframe tbody tr th:only-of-type {\n",
              "        vertical-align: middle;\n",
              "    }\n",
              "\n",
              "    .dataframe tbody tr th {\n",
              "        vertical-align: top;\n",
              "    }\n",
              "\n",
              "    .dataframe thead th {\n",
              "        text-align: right;\n",
              "    }\n",
              "</style>\n",
              "<table border=\"1\" class=\"dataframe\">\n",
              "  <thead>\n",
              "    <tr style=\"text-align: right;\">\n",
              "      <th></th>\n",
              "      <th>LOC_CODE_AND_COMMENT</th>\n",
              "      <th>PERCENT_COMMENTS</th>\n",
              "      <th>LOC_COMMENTS</th>\n",
              "      <th>NUM_UNIQUE_OPERATORS</th>\n",
              "      <th>LOC_TOTAL</th>\n",
              "      <th>CYCLOMATIC_DENSITY</th>\n",
              "      <th>CALL_PAIRS</th>\n",
              "    </tr>\n",
              "  </thead>\n",
              "  <tbody>\n",
              "    <tr>\n",
              "      <th>0</th>\n",
              "      <td>2.0</td>\n",
              "      <td>31.25</td>\n",
              "      <td>8.0</td>\n",
              "      <td>12.0</td>\n",
              "      <td>24.0</td>\n",
              "      <td>0.25</td>\n",
              "      <td>5.0</td>\n",
              "    </tr>\n",
              "    <tr>\n",
              "      <th>1</th>\n",
              "      <td>0.0</td>\n",
              "      <td>10.00</td>\n",
              "      <td>1.0</td>\n",
              "      <td>14.0</td>\n",
              "      <td>9.0</td>\n",
              "      <td>0.56</td>\n",
              "      <td>3.0</td>\n",
              "    </tr>\n",
              "    <tr>\n",
              "      <th>2</th>\n",
              "      <td>1.0</td>\n",
              "      <td>10.53</td>\n",
              "      <td>1.0</td>\n",
              "      <td>14.0</td>\n",
              "      <td>18.0</td>\n",
              "      <td>0.17</td>\n",
              "      <td>1.0</td>\n",
              "    </tr>\n",
              "    <tr>\n",
              "      <th>3</th>\n",
              "      <td>0.0</td>\n",
              "      <td>0.00</td>\n",
              "      <td>0.0</td>\n",
              "      <td>9.0</td>\n",
              "      <td>10.0</td>\n",
              "      <td>0.30</td>\n",
              "      <td>1.0</td>\n",
              "    </tr>\n",
              "    <tr>\n",
              "      <th>4</th>\n",
              "      <td>3.0</td>\n",
              "      <td>15.00</td>\n",
              "      <td>0.0</td>\n",
              "      <td>7.0</td>\n",
              "      <td>20.0</td>\n",
              "      <td>0.15</td>\n",
              "      <td>1.0</td>\n",
              "    </tr>\n",
              "  </tbody>\n",
              "</table>\n",
              "</div>"
            ],
            "text/plain": [
              "   LOC_CODE_AND_COMMENT  PERCENT_COMMENTS  ...  CYCLOMATIC_DENSITY  CALL_PAIRS\n",
              "0                   2.0             31.25  ...                0.25         5.0\n",
              "1                   0.0             10.00  ...                0.56         3.0\n",
              "2                   1.0             10.53  ...                0.17         1.0\n",
              "3                   0.0              0.00  ...                0.30         1.0\n",
              "4                   3.0             15.00  ...                0.15         1.0\n",
              "\n",
              "[5 rows x 7 columns]"
            ]
          },
          "metadata": {
            "tags": []
          },
          "execution_count": 72
        }
      ]
    },
    {
      "cell_type": "code",
      "metadata": {
        "id": "hoeRUN4KaPf3",
        "colab_type": "code",
        "colab": {}
      },
      "source": [
        "test1=test[['halstead_vocabulary','halstead_effort','halstead_length','total_operands','branch_count','design_density','halstead_time']]"
      ],
      "execution_count": 0,
      "outputs": []
    },
    {
      "cell_type": "code",
      "metadata": {
        "id": "yqKlJMwuaiSq",
        "colab_type": "code",
        "outputId": "8178f80b-3329-4c81-d268-83e44999ffec",
        "colab": {
          "base_uri": "https://localhost:8080/",
          "height": 226
        }
      },
      "source": [
        "test1.head()"
      ],
      "execution_count": 0,
      "outputs": [
        {
          "output_type": "execute_result",
          "data": {
            "text/html": [
              "<div>\n",
              "<style scoped>\n",
              "    .dataframe tbody tr th:only-of-type {\n",
              "        vertical-align: middle;\n",
              "    }\n",
              "\n",
              "    .dataframe tbody tr th {\n",
              "        vertical-align: top;\n",
              "    }\n",
              "\n",
              "    .dataframe thead th {\n",
              "        text-align: right;\n",
              "    }\n",
              "</style>\n",
              "<table border=\"1\" class=\"dataframe\">\n",
              "  <thead>\n",
              "    <tr style=\"text-align: right;\">\n",
              "      <th></th>\n",
              "      <th>halstead_vocabulary</th>\n",
              "      <th>halstead_effort</th>\n",
              "      <th>halstead_length</th>\n",
              "      <th>total_operands</th>\n",
              "      <th>branch_count</th>\n",
              "      <th>design_density</th>\n",
              "      <th>halstead_time</th>\n",
              "    </tr>\n",
              "  </thead>\n",
              "  <tbody>\n",
              "    <tr>\n",
              "      <th>0</th>\n",
              "      <td>161.0</td>\n",
              "      <td>63373.3333</td>\n",
              "      <td>611.0</td>\n",
              "      <td>245.0</td>\n",
              "      <td>94.0</td>\n",
              "      <td>1.1622</td>\n",
              "      <td>3520.7407</td>\n",
              "    </tr>\n",
              "    <tr>\n",
              "      <th>1</th>\n",
              "      <td>10.0</td>\n",
              "      <td>144.0000</td>\n",
              "      <td>14.0</td>\n",
              "      <td>6.0</td>\n",
              "      <td>0.0</td>\n",
              "      <td>0.0000</td>\n",
              "      <td>8.0000</td>\n",
              "    </tr>\n",
              "    <tr>\n",
              "      <th>2</th>\n",
              "      <td>148.0</td>\n",
              "      <td>127178.4080</td>\n",
              "      <td>821.0</td>\n",
              "      <td>337.0</td>\n",
              "      <td>190.0</td>\n",
              "      <td>0.0000</td>\n",
              "      <td>7065.4671</td>\n",
              "    </tr>\n",
              "    <tr>\n",
              "      <th>3</th>\n",
              "      <td>14.0</td>\n",
              "      <td>252.0000</td>\n",
              "      <td>32.0</td>\n",
              "      <td>15.0</td>\n",
              "      <td>0.0</td>\n",
              "      <td>2.0000</td>\n",
              "      <td>14.0000</td>\n",
              "    </tr>\n",
              "    <tr>\n",
              "      <th>4</th>\n",
              "      <td>11.0</td>\n",
              "      <td>179.1429</td>\n",
              "      <td>24.0</td>\n",
              "      <td>11.0</td>\n",
              "      <td>0.0</td>\n",
              "      <td>1.0000</td>\n",
              "      <td>9.9524</td>\n",
              "    </tr>\n",
              "  </tbody>\n",
              "</table>\n",
              "</div>"
            ],
            "text/plain": [
              "   halstead_vocabulary  halstead_effort  ...  design_density  halstead_time\n",
              "0                161.0       63373.3333  ...          1.1622      3520.7407\n",
              "1                 10.0         144.0000  ...          0.0000         8.0000\n",
              "2                148.0      127178.4080  ...          0.0000      7065.4671\n",
              "3                 14.0         252.0000  ...          2.0000        14.0000\n",
              "4                 11.0         179.1429  ...          1.0000         9.9524\n",
              "\n",
              "[5 rows x 7 columns]"
            ]
          },
          "metadata": {
            "tags": []
          },
          "execution_count": 74
        }
      ]
    },
    {
      "cell_type": "code",
      "metadata": {
        "id": "wyScV7TkanfF",
        "colab_type": "code",
        "colab": {}
      },
      "source": [
        "train1=train1.rename(columns={\"LOC_CODE_AND_COMMENT\": \"a\", \"PERCENT_COMMENTS\": \"b\", \"LOC_COMMENTS\":\"c\", \"NUM_UNIQUE_OPERATORS\":\"d\", \"LOC_TOTAL\":\"e\",\"CYCLOMATIC_DENSITY\":\"f\",\"CALL_PAIRS\":\"g\"})"
      ],
      "execution_count": 0,
      "outputs": []
    },
    {
      "cell_type": "code",
      "metadata": {
        "id": "QMWPd2hqa_-g",
        "colab_type": "code",
        "outputId": "62235048-8fef-4004-e215-dd1022274cfe",
        "colab": {
          "base_uri": "https://localhost:8080/",
          "height": 206
        }
      },
      "source": [
        "train1.head()"
      ],
      "execution_count": 0,
      "outputs": [
        {
          "output_type": "execute_result",
          "data": {
            "text/html": [
              "<div>\n",
              "<style scoped>\n",
              "    .dataframe tbody tr th:only-of-type {\n",
              "        vertical-align: middle;\n",
              "    }\n",
              "\n",
              "    .dataframe tbody tr th {\n",
              "        vertical-align: top;\n",
              "    }\n",
              "\n",
              "    .dataframe thead th {\n",
              "        text-align: right;\n",
              "    }\n",
              "</style>\n",
              "<table border=\"1\" class=\"dataframe\">\n",
              "  <thead>\n",
              "    <tr style=\"text-align: right;\">\n",
              "      <th></th>\n",
              "      <th>a</th>\n",
              "      <th>b</th>\n",
              "      <th>c</th>\n",
              "      <th>d</th>\n",
              "      <th>e</th>\n",
              "      <th>f</th>\n",
              "      <th>g</th>\n",
              "    </tr>\n",
              "  </thead>\n",
              "  <tbody>\n",
              "    <tr>\n",
              "      <th>0</th>\n",
              "      <td>2.0</td>\n",
              "      <td>31.25</td>\n",
              "      <td>8.0</td>\n",
              "      <td>12.0</td>\n",
              "      <td>24.0</td>\n",
              "      <td>0.25</td>\n",
              "      <td>5.0</td>\n",
              "    </tr>\n",
              "    <tr>\n",
              "      <th>1</th>\n",
              "      <td>0.0</td>\n",
              "      <td>10.00</td>\n",
              "      <td>1.0</td>\n",
              "      <td>14.0</td>\n",
              "      <td>9.0</td>\n",
              "      <td>0.56</td>\n",
              "      <td>3.0</td>\n",
              "    </tr>\n",
              "    <tr>\n",
              "      <th>2</th>\n",
              "      <td>1.0</td>\n",
              "      <td>10.53</td>\n",
              "      <td>1.0</td>\n",
              "      <td>14.0</td>\n",
              "      <td>18.0</td>\n",
              "      <td>0.17</td>\n",
              "      <td>1.0</td>\n",
              "    </tr>\n",
              "    <tr>\n",
              "      <th>3</th>\n",
              "      <td>0.0</td>\n",
              "      <td>0.00</td>\n",
              "      <td>0.0</td>\n",
              "      <td>9.0</td>\n",
              "      <td>10.0</td>\n",
              "      <td>0.30</td>\n",
              "      <td>1.0</td>\n",
              "    </tr>\n",
              "    <tr>\n",
              "      <th>4</th>\n",
              "      <td>3.0</td>\n",
              "      <td>15.00</td>\n",
              "      <td>0.0</td>\n",
              "      <td>7.0</td>\n",
              "      <td>20.0</td>\n",
              "      <td>0.15</td>\n",
              "      <td>1.0</td>\n",
              "    </tr>\n",
              "  </tbody>\n",
              "</table>\n",
              "</div>"
            ],
            "text/plain": [
              "     a      b    c     d     e     f    g\n",
              "0  2.0  31.25  8.0  12.0  24.0  0.25  5.0\n",
              "1  0.0  10.00  1.0  14.0   9.0  0.56  3.0\n",
              "2  1.0  10.53  1.0  14.0  18.0  0.17  1.0\n",
              "3  0.0   0.00  0.0   9.0  10.0  0.30  1.0\n",
              "4  3.0  15.00  0.0   7.0  20.0  0.15  1.0"
            ]
          },
          "metadata": {
            "tags": []
          },
          "execution_count": 76
        }
      ]
    },
    {
      "cell_type": "code",
      "metadata": {
        "id": "_Jj79M3jbBrC",
        "colab_type": "code",
        "colab": {}
      },
      "source": [
        "test1=test1.rename(columns={\"halstead_vocabulary\": \"a\", \"halstead_effort\": \"b\", \"halstead_length\":\"c\", \"total_operands\":\"d\", \"branch_count\":\"e\",\"design_density\":\"f\",\"halstead_time\":\"g\"})"
      ],
      "execution_count": 0,
      "outputs": []
    },
    {
      "cell_type": "code",
      "metadata": {
        "id": "f0vTNOxUbUzj",
        "colab_type": "code",
        "outputId": "9f8d21fd-3b09-49cb-9e5d-6ed61647e5fc",
        "colab": {
          "base_uri": "https://localhost:8080/",
          "height": 206
        }
      },
      "source": [
        "test1.head()"
      ],
      "execution_count": 0,
      "outputs": [
        {
          "output_type": "execute_result",
          "data": {
            "text/html": [
              "<div>\n",
              "<style scoped>\n",
              "    .dataframe tbody tr th:only-of-type {\n",
              "        vertical-align: middle;\n",
              "    }\n",
              "\n",
              "    .dataframe tbody tr th {\n",
              "        vertical-align: top;\n",
              "    }\n",
              "\n",
              "    .dataframe thead th {\n",
              "        text-align: right;\n",
              "    }\n",
              "</style>\n",
              "<table border=\"1\" class=\"dataframe\">\n",
              "  <thead>\n",
              "    <tr style=\"text-align: right;\">\n",
              "      <th></th>\n",
              "      <th>a</th>\n",
              "      <th>b</th>\n",
              "      <th>c</th>\n",
              "      <th>d</th>\n",
              "      <th>e</th>\n",
              "      <th>f</th>\n",
              "      <th>g</th>\n",
              "    </tr>\n",
              "  </thead>\n",
              "  <tbody>\n",
              "    <tr>\n",
              "      <th>0</th>\n",
              "      <td>161.0</td>\n",
              "      <td>63373.3333</td>\n",
              "      <td>611.0</td>\n",
              "      <td>245.0</td>\n",
              "      <td>94.0</td>\n",
              "      <td>1.1622</td>\n",
              "      <td>3520.7407</td>\n",
              "    </tr>\n",
              "    <tr>\n",
              "      <th>1</th>\n",
              "      <td>10.0</td>\n",
              "      <td>144.0000</td>\n",
              "      <td>14.0</td>\n",
              "      <td>6.0</td>\n",
              "      <td>0.0</td>\n",
              "      <td>0.0000</td>\n",
              "      <td>8.0000</td>\n",
              "    </tr>\n",
              "    <tr>\n",
              "      <th>2</th>\n",
              "      <td>148.0</td>\n",
              "      <td>127178.4080</td>\n",
              "      <td>821.0</td>\n",
              "      <td>337.0</td>\n",
              "      <td>190.0</td>\n",
              "      <td>0.0000</td>\n",
              "      <td>7065.4671</td>\n",
              "    </tr>\n",
              "    <tr>\n",
              "      <th>3</th>\n",
              "      <td>14.0</td>\n",
              "      <td>252.0000</td>\n",
              "      <td>32.0</td>\n",
              "      <td>15.0</td>\n",
              "      <td>0.0</td>\n",
              "      <td>2.0000</td>\n",
              "      <td>14.0000</td>\n",
              "    </tr>\n",
              "    <tr>\n",
              "      <th>4</th>\n",
              "      <td>11.0</td>\n",
              "      <td>179.1429</td>\n",
              "      <td>24.0</td>\n",
              "      <td>11.0</td>\n",
              "      <td>0.0</td>\n",
              "      <td>1.0000</td>\n",
              "      <td>9.9524</td>\n",
              "    </tr>\n",
              "  </tbody>\n",
              "</table>\n",
              "</div>"
            ],
            "text/plain": [
              "       a            b      c      d      e       f          g\n",
              "0  161.0   63373.3333  611.0  245.0   94.0  1.1622  3520.7407\n",
              "1   10.0     144.0000   14.0    6.0    0.0  0.0000     8.0000\n",
              "2  148.0  127178.4080  821.0  337.0  190.0  0.0000  7065.4671\n",
              "3   14.0     252.0000   32.0   15.0    0.0  2.0000    14.0000\n",
              "4   11.0     179.1429   24.0   11.0    0.0  1.0000     9.9524"
            ]
          },
          "metadata": {
            "tags": []
          },
          "execution_count": 78
        }
      ]
    },
    {
      "cell_type": "code",
      "metadata": {
        "id": "CIUK7JqfbWmi",
        "colab_type": "code",
        "outputId": "4e76e15b-30ab-4726-abab-db2905725efa",
        "colab": {
          "base_uri": "https://localhost:8080/",
          "height": 206
        }
      },
      "source": [
        "ddy.head()"
      ],
      "execution_count": 0,
      "outputs": [
        {
          "output_type": "execute_result",
          "data": {
            "text/html": [
              "<div>\n",
              "<style scoped>\n",
              "    .dataframe tbody tr th:only-of-type {\n",
              "        vertical-align: middle;\n",
              "    }\n",
              "\n",
              "    .dataframe tbody tr th {\n",
              "        vertical-align: top;\n",
              "    }\n",
              "\n",
              "    .dataframe thead th {\n",
              "        text-align: right;\n",
              "    }\n",
              "</style>\n",
              "<table border=\"1\" class=\"dataframe\">\n",
              "  <thead>\n",
              "    <tr style=\"text-align: right;\">\n",
              "      <th></th>\n",
              "      <th>defects</th>\n",
              "    </tr>\n",
              "  </thead>\n",
              "  <tbody>\n",
              "    <tr>\n",
              "      <th>0</th>\n",
              "      <td>true</td>\n",
              "    </tr>\n",
              "    <tr>\n",
              "      <th>1</th>\n",
              "      <td>false</td>\n",
              "    </tr>\n",
              "    <tr>\n",
              "      <th>2</th>\n",
              "      <td>false</td>\n",
              "    </tr>\n",
              "    <tr>\n",
              "      <th>3</th>\n",
              "      <td>false</td>\n",
              "    </tr>\n",
              "    <tr>\n",
              "      <th>4</th>\n",
              "      <td>false</td>\n",
              "    </tr>\n",
              "  </tbody>\n",
              "</table>\n",
              "</div>"
            ],
            "text/plain": [
              "  defects\n",
              "0    true\n",
              "1   false\n",
              "2   false\n",
              "3   false\n",
              "4   false"
            ]
          },
          "metadata": {
            "tags": []
          },
          "execution_count": 79
        }
      ]
    },
    {
      "cell_type": "code",
      "metadata": {
        "id": "FkUCf9k8btEY",
        "colab_type": "code",
        "outputId": "7bb4fbb0-b28a-48af-baed-29aa13130937",
        "colab": {
          "base_uri": "https://localhost:8080/",
          "height": 206
        }
      },
      "source": [
        "dfy.head()"
      ],
      "execution_count": 0,
      "outputs": [
        {
          "output_type": "execute_result",
          "data": {
            "text/html": [
              "<div>\n",
              "<style scoped>\n",
              "    .dataframe tbody tr th:only-of-type {\n",
              "        vertical-align: middle;\n",
              "    }\n",
              "\n",
              "    .dataframe tbody tr th {\n",
              "        vertical-align: top;\n",
              "    }\n",
              "\n",
              "    .dataframe thead th {\n",
              "        text-align: right;\n",
              "    }\n",
              "</style>\n",
              "<table border=\"1\" class=\"dataframe\">\n",
              "  <thead>\n",
              "    <tr style=\"text-align: right;\">\n",
              "      <th></th>\n",
              "      <th>defects</th>\n",
              "    </tr>\n",
              "  </thead>\n",
              "  <tbody>\n",
              "    <tr>\n",
              "      <th>0</th>\n",
              "      <td>false</td>\n",
              "    </tr>\n",
              "    <tr>\n",
              "      <th>1</th>\n",
              "      <td>false</td>\n",
              "    </tr>\n",
              "    <tr>\n",
              "      <th>2</th>\n",
              "      <td>false</td>\n",
              "    </tr>\n",
              "    <tr>\n",
              "      <th>3</th>\n",
              "      <td>false</td>\n",
              "    </tr>\n",
              "    <tr>\n",
              "      <th>4</th>\n",
              "      <td>false</td>\n",
              "    </tr>\n",
              "  </tbody>\n",
              "</table>\n",
              "</div>"
            ],
            "text/plain": [
              "  defects\n",
              "0   false\n",
              "1   false\n",
              "2   false\n",
              "3   false\n",
              "4   false"
            ]
          },
          "metadata": {
            "tags": []
          },
          "execution_count": 81
        }
      ]
    },
    {
      "cell_type": "code",
      "metadata": {
        "id": "Z1WxjuL-buX3",
        "colab_type": "code",
        "colab": {}
      },
      "source": [
        "from sklearn.ensemble import RandomForestClassifier"
      ],
      "execution_count": 0,
      "outputs": []
    },
    {
      "cell_type": "code",
      "metadata": {
        "id": "Ryvd6cxR9e_a",
        "colab_type": "code",
        "colab": {}
      },
      "source": [
        "import warnings\n",
        "warnings.filterwarnings('ignore')"
      ],
      "execution_count": 0,
      "outputs": []
    },
    {
      "cell_type": "code",
      "metadata": {
        "id": "yJAq_mYwby6k",
        "colab_type": "code",
        "outputId": "42ce1c64-6c41-4f2a-ac75-f1fb4d167674",
        "colab": {
          "base_uri": "https://localhost:8080/",
          "height": 219
        }
      },
      "source": [
        "clf = RandomForestClassifier()\n",
        "clf.fit(train1,dfy)\n",
        "pred=clf.predict(test1)\n",
        "from sklearn.metrics import confusion_matrix, precision_recall_curve, auc, roc_auc_score, roc_curve, recall_score, classification_report\n",
        "from sklearn.metrics import confusion_matrix\n",
        "matrix = confusion_matrix(ddy,pred)\n",
        "print(matrix)\n",
        "print(classification_report(ddy,pred))"
      ],
      "execution_count": 0,
      "outputs": [
        {
          "output_type": "stream",
          "text": [
            "[[53  2]\n",
            " [ 4  4]]\n",
            "              precision    recall  f1-score   support\n",
            "\n",
            "       false       0.93      0.96      0.95        55\n",
            "        true       0.67      0.50      0.57         8\n",
            "\n",
            "    accuracy                           0.90        63\n",
            "   macro avg       0.80      0.73      0.76        63\n",
            "weighted avg       0.90      0.90      0.90        63\n",
            "\n"
          ],
          "name": "stdout"
        }
      ]
    },
    {
      "cell_type": "markdown",
      "metadata": {
        "id": "Rh8LxH_7PSNy",
        "colab_type": "text"
      },
      "source": [
        "###################################"
      ]
    },
    {
      "cell_type": "markdown",
      "metadata": {
        "id": "IVoSKa_a-Sas",
        "colab_type": "text"
      },
      "source": [
        "Tried to find what if we train and test on the same data below"
      ]
    },
    {
      "cell_type": "code",
      "metadata": {
        "id": "moR78FaI5x2A",
        "colab_type": "code",
        "colab": {}
      },
      "source": [
        "from sklearn.model_selection import train_test_split\n",
        "X_train, X_test, y_train, y_test = train_test_split(test1, ddy, test_size = 0.10)"
      ],
      "execution_count": 0,
      "outputs": []
    },
    {
      "cell_type": "code",
      "metadata": {
        "id": "3ezK0N4J6bNc",
        "colab_type": "code",
        "outputId": "5961711e-8923-4174-813e-646fdff55020",
        "colab": {
          "base_uri": "https://localhost:8080/",
          "height": 349
        }
      },
      "source": [
        "clf = RandomForestClassifier()\n",
        "clf.fit(X_train,y_train)\n",
        "pred=clf.predict(X_test)\n",
        "from sklearn.metrics import confusion_matrix, precision_recall_curve, auc, roc_auc_score, roc_curve, recall_score, classification_report\n",
        "\n",
        "from sklearn.metrics import confusion_matrix\n",
        "matrix = confusion_matrix(y_test,pred)\n",
        "print(matrix)\n",
        "print(classification_report(y_test,pred))\n",
        "#print(roc_auc_score(ddy,pred))#base model"
      ],
      "execution_count": 0,
      "outputs": [
        {
          "output_type": "stream",
          "text": [
            "[[5 0]\n",
            " [2 0]]\n",
            "              precision    recall  f1-score   support\n",
            "\n",
            "       false       0.71      1.00      0.83         5\n",
            "        true       0.00      0.00      0.00         2\n",
            "\n",
            "    accuracy                           0.71         7\n",
            "   macro avg       0.36      0.50      0.42         7\n",
            "weighted avg       0.51      0.71      0.60         7\n",
            "\n"
          ],
          "name": "stdout"
        },
        {
          "output_type": "stream",
          "text": [
            "/usr/local/lib/python3.6/dist-packages/sklearn/ensemble/forest.py:245: FutureWarning: The default value of n_estimators will change from 10 in version 0.20 to 100 in 0.22.\n",
            "  \"10 in version 0.20 to 100 in 0.22.\", FutureWarning)\n",
            "/usr/local/lib/python3.6/dist-packages/ipykernel_launcher.py:2: DataConversionWarning: A column-vector y was passed when a 1d array was expected. Please change the shape of y to (n_samples,), for example using ravel().\n",
            "  \n",
            "/usr/local/lib/python3.6/dist-packages/sklearn/metrics/classification.py:1437: UndefinedMetricWarning: Precision and F-score are ill-defined and being set to 0.0 in labels with no predicted samples.\n",
            "  'precision', 'predicted', average, warn_for)\n"
          ],
          "name": "stderr"
        }
      ]
    },
    {
      "cell_type": "code",
      "metadata": {
        "id": "XFZf-Y757RUo",
        "colab_type": "code",
        "colab": {}
      },
      "source": [
        ""
      ],
      "execution_count": 0,
      "outputs": []
    },
    {
      "cell_type": "markdown",
      "metadata": {
        "id": "-5x3kwqlPVi4",
        "colab_type": "text"
      },
      "source": [
        "OVERSAMPLING APPROACH STARTS HERE"
      ]
    },
    {
      "cell_type": "code",
      "metadata": {
        "id": "GPjyNZor4IKq",
        "colab_type": "code",
        "colab": {}
      },
      "source": [
        "train1['defects']=dfy"
      ],
      "execution_count": 0,
      "outputs": []
    },
    {
      "cell_type": "code",
      "metadata": {
        "id": "KOeAUhsM4oS5",
        "colab_type": "code",
        "colab": {}
      },
      "source": [
        "buggers=train1[train1['defects']=='true']\n",
        "nobuggers=train1[train1['defects']=='false']"
      ],
      "execution_count": 0,
      "outputs": []
    },
    {
      "cell_type": "code",
      "metadata": {
        "id": "do7Ll7He44V5",
        "colab_type": "code",
        "outputId": "96b59a22-0081-446c-e507-d6a48cdda07a",
        "colab": {
          "base_uri": "https://localhost:8080/",
          "height": 206
        }
      },
      "source": [
        "buggers.head()"
      ],
      "execution_count": 0,
      "outputs": [
        {
          "output_type": "execute_result",
          "data": {
            "text/html": [
              "<div>\n",
              "<style scoped>\n",
              "    .dataframe tbody tr th:only-of-type {\n",
              "        vertical-align: middle;\n",
              "    }\n",
              "\n",
              "    .dataframe tbody tr th {\n",
              "        vertical-align: top;\n",
              "    }\n",
              "\n",
              "    .dataframe thead th {\n",
              "        text-align: right;\n",
              "    }\n",
              "</style>\n",
              "<table border=\"1\" class=\"dataframe\">\n",
              "  <thead>\n",
              "    <tr style=\"text-align: right;\">\n",
              "      <th></th>\n",
              "      <th>a</th>\n",
              "      <th>b</th>\n",
              "      <th>c</th>\n",
              "      <th>d</th>\n",
              "      <th>e</th>\n",
              "      <th>f</th>\n",
              "      <th>g</th>\n",
              "      <th>defects</th>\n",
              "    </tr>\n",
              "  </thead>\n",
              "  <tbody>\n",
              "    <tr>\n",
              "      <th>8</th>\n",
              "      <td>18.0</td>\n",
              "      <td>54.46</td>\n",
              "      <td>43.0</td>\n",
              "      <td>21.0</td>\n",
              "      <td>69.0</td>\n",
              "      <td>0.16</td>\n",
              "      <td>1.0</td>\n",
              "      <td>true</td>\n",
              "    </tr>\n",
              "    <tr>\n",
              "      <th>45</th>\n",
              "      <td>1.0</td>\n",
              "      <td>42.11</td>\n",
              "      <td>23.0</td>\n",
              "      <td>10.0</td>\n",
              "      <td>34.0</td>\n",
              "      <td>0.06</td>\n",
              "      <td>1.0</td>\n",
              "      <td>true</td>\n",
              "    </tr>\n",
              "    <tr>\n",
              "      <th>48</th>\n",
              "      <td>0.0</td>\n",
              "      <td>38.10</td>\n",
              "      <td>8.0</td>\n",
              "      <td>7.0</td>\n",
              "      <td>13.0</td>\n",
              "      <td>0.15</td>\n",
              "      <td>7.0</td>\n",
              "      <td>true</td>\n",
              "    </tr>\n",
              "    <tr>\n",
              "      <th>58</th>\n",
              "      <td>20.0</td>\n",
              "      <td>92.59</td>\n",
              "      <td>5.0</td>\n",
              "      <td>13.0</td>\n",
              "      <td>22.0</td>\n",
              "      <td>0.18</td>\n",
              "      <td>2.0</td>\n",
              "      <td>true</td>\n",
              "    </tr>\n",
              "    <tr>\n",
              "      <th>59</th>\n",
              "      <td>11.0</td>\n",
              "      <td>34.18</td>\n",
              "      <td>16.0</td>\n",
              "      <td>25.0</td>\n",
              "      <td>63.0</td>\n",
              "      <td>0.21</td>\n",
              "      <td>9.0</td>\n",
              "      <td>true</td>\n",
              "    </tr>\n",
              "  </tbody>\n",
              "</table>\n",
              "</div>"
            ],
            "text/plain": [
              "       a      b     c     d     e     f    g defects\n",
              "8   18.0  54.46  43.0  21.0  69.0  0.16  1.0    true\n",
              "45   1.0  42.11  23.0  10.0  34.0  0.06  1.0    true\n",
              "48   0.0  38.10   8.0   7.0  13.0  0.15  7.0    true\n",
              "58  20.0  92.59   5.0  13.0  22.0  0.18  2.0    true\n",
              "59  11.0  34.18  16.0  25.0  63.0  0.21  9.0    true"
            ]
          },
          "metadata": {
            "tags": []
          },
          "execution_count": 30
        }
      ]
    },
    {
      "cell_type": "code",
      "metadata": {
        "id": "7zqW5mmW457j",
        "colab_type": "code",
        "outputId": "54fc6667-a43c-4939-b343-ae2296e7ea7c",
        "colab": {
          "base_uri": "https://localhost:8080/",
          "height": 206
        }
      },
      "source": [
        "nobuggers.head()"
      ],
      "execution_count": 0,
      "outputs": [
        {
          "output_type": "execute_result",
          "data": {
            "text/html": [
              "<div>\n",
              "<style scoped>\n",
              "    .dataframe tbody tr th:only-of-type {\n",
              "        vertical-align: middle;\n",
              "    }\n",
              "\n",
              "    .dataframe tbody tr th {\n",
              "        vertical-align: top;\n",
              "    }\n",
              "\n",
              "    .dataframe thead th {\n",
              "        text-align: right;\n",
              "    }\n",
              "</style>\n",
              "<table border=\"1\" class=\"dataframe\">\n",
              "  <thead>\n",
              "    <tr style=\"text-align: right;\">\n",
              "      <th></th>\n",
              "      <th>a</th>\n",
              "      <th>b</th>\n",
              "      <th>c</th>\n",
              "      <th>d</th>\n",
              "      <th>e</th>\n",
              "      <th>f</th>\n",
              "      <th>g</th>\n",
              "      <th>defects</th>\n",
              "    </tr>\n",
              "  </thead>\n",
              "  <tbody>\n",
              "    <tr>\n",
              "      <th>0</th>\n",
              "      <td>2.0</td>\n",
              "      <td>31.25</td>\n",
              "      <td>8.0</td>\n",
              "      <td>12.0</td>\n",
              "      <td>24.0</td>\n",
              "      <td>0.25</td>\n",
              "      <td>5.0</td>\n",
              "      <td>false</td>\n",
              "    </tr>\n",
              "    <tr>\n",
              "      <th>1</th>\n",
              "      <td>0.0</td>\n",
              "      <td>10.00</td>\n",
              "      <td>1.0</td>\n",
              "      <td>14.0</td>\n",
              "      <td>9.0</td>\n",
              "      <td>0.56</td>\n",
              "      <td>3.0</td>\n",
              "      <td>false</td>\n",
              "    </tr>\n",
              "    <tr>\n",
              "      <th>2</th>\n",
              "      <td>1.0</td>\n",
              "      <td>10.53</td>\n",
              "      <td>1.0</td>\n",
              "      <td>14.0</td>\n",
              "      <td>18.0</td>\n",
              "      <td>0.17</td>\n",
              "      <td>1.0</td>\n",
              "      <td>false</td>\n",
              "    </tr>\n",
              "    <tr>\n",
              "      <th>3</th>\n",
              "      <td>0.0</td>\n",
              "      <td>0.00</td>\n",
              "      <td>0.0</td>\n",
              "      <td>9.0</td>\n",
              "      <td>10.0</td>\n",
              "      <td>0.30</td>\n",
              "      <td>1.0</td>\n",
              "      <td>false</td>\n",
              "    </tr>\n",
              "    <tr>\n",
              "      <th>4</th>\n",
              "      <td>3.0</td>\n",
              "      <td>15.00</td>\n",
              "      <td>0.0</td>\n",
              "      <td>7.0</td>\n",
              "      <td>20.0</td>\n",
              "      <td>0.15</td>\n",
              "      <td>1.0</td>\n",
              "      <td>false</td>\n",
              "    </tr>\n",
              "  </tbody>\n",
              "</table>\n",
              "</div>"
            ],
            "text/plain": [
              "     a      b    c     d     e     f    g defects\n",
              "0  2.0  31.25  8.0  12.0  24.0  0.25  5.0   false\n",
              "1  0.0  10.00  1.0  14.0   9.0  0.56  3.0   false\n",
              "2  1.0  10.53  1.0  14.0  18.0  0.17  1.0   false\n",
              "3  0.0   0.00  0.0   9.0  10.0  0.30  1.0   false\n",
              "4  3.0  15.00  0.0   7.0  20.0  0.15  1.0   false"
            ]
          },
          "metadata": {
            "tags": []
          },
          "execution_count": 31
        }
      ]
    },
    {
      "cell_type": "code",
      "metadata": {
        "id": "bC9okL084-tu",
        "colab_type": "code",
        "colab": {}
      },
      "source": [
        "l1=buggers.shape"
      ],
      "execution_count": 0,
      "outputs": []
    },
    {
      "cell_type": "code",
      "metadata": {
        "id": "1x7bG1L85EVI",
        "colab_type": "code",
        "colab": {}
      },
      "source": [
        "l2=nobuggers.shape"
      ],
      "execution_count": 0,
      "outputs": []
    },
    {
      "cell_type": "code",
      "metadata": {
        "id": "lrze_SyS5F8R",
        "colab_type": "code",
        "outputId": "80921e94-d9e9-4fe8-b7e1-a032bf020a2b",
        "colab": {
          "base_uri": "https://localhost:8080/",
          "height": 35
        }
      },
      "source": [
        "l1"
      ],
      "execution_count": 0,
      "outputs": [
        {
          "output_type": "execute_result",
          "data": {
            "text/plain": [
              "(178, 8)"
            ]
          },
          "metadata": {
            "tags": []
          },
          "execution_count": 34
        }
      ]
    },
    {
      "cell_type": "code",
      "metadata": {
        "id": "_fxfCypf5HEV",
        "colab_type": "code",
        "outputId": "f1e15924-66c8-43ae-b47a-41f010d8ac0a",
        "colab": {
          "base_uri": "https://localhost:8080/",
          "height": 35
        }
      },
      "source": [
        "l2"
      ],
      "execution_count": 0,
      "outputs": [
        {
          "output_type": "execute_result",
          "data": {
            "text/plain": [
              "(1280, 8)"
            ]
          },
          "metadata": {
            "tags": []
          },
          "execution_count": 35
        }
      ]
    },
    {
      "cell_type": "code",
      "metadata": {
        "id": "Mms49Dam5HU-",
        "colab_type": "code",
        "outputId": "86f192e4-81ea-4adf-a83e-7594ac825e78",
        "colab": {
          "base_uri": "https://localhost:8080/",
          "height": 35
        }
      },
      "source": [
        "1280//178"
      ],
      "execution_count": 0,
      "outputs": [
        {
          "output_type": "execute_result",
          "data": {
            "text/plain": [
              "7"
            ]
          },
          "metadata": {
            "tags": []
          },
          "execution_count": 36
        }
      ]
    },
    {
      "cell_type": "code",
      "metadata": {
        "id": "YeJv5C6F5Ng7",
        "colab_type": "code",
        "colab": {}
      },
      "source": [
        "div=(l2[0]//7)"
      ],
      "execution_count": 0,
      "outputs": []
    },
    {
      "cell_type": "code",
      "metadata": {
        "id": "RzxonR575SPv",
        "colab_type": "code",
        "outputId": "28d90f0a-a1ed-4eaf-9efc-d3c249104703",
        "colab": {
          "base_uri": "https://localhost:8080/",
          "height": 35
        }
      },
      "source": [
        "div"
      ],
      "execution_count": 0,
      "outputs": [
        {
          "output_type": "execute_result",
          "data": {
            "text/plain": [
              "182"
            ]
          },
          "metadata": {
            "tags": []
          },
          "execution_count": 38
        }
      ]
    },
    {
      "cell_type": "code",
      "metadata": {
        "id": "lWuzH4pN5VfF",
        "colab_type": "code",
        "colab": {}
      },
      "source": [
        "tr1=nobuggers[0:div+1]\n",
        "tr2=nobuggers[div+1:(2*div)+1]\n",
        "tr3=nobuggers[(2*div)+1:(3*div)+1]\n",
        "tr4=nobuggers[(3*div)+1:(4*div)+1]\n",
        "tr5=nobuggers[(4*div)+1:(5*div)+1]\n",
        "tr6=nobuggers[(5*div)+1:(6*div)+1]\n",
        "tr7=nobuggers[(6*div)+1:(l2[0]+1)] #change acc to partitions     #last one remains l2[0]+1 to include all the remaining rows"
      ],
      "execution_count": 0,
      "outputs": []
    },
    {
      "cell_type": "code",
      "metadata": {
        "id": "ysa9ndxw5hVw",
        "colab_type": "code",
        "outputId": "e7746bdb-3f40-44c1-eed4-70611be6a557",
        "colab": {
          "base_uri": "https://localhost:8080/",
          "height": 206
        }
      },
      "source": [
        "tr4.head()"
      ],
      "execution_count": 0,
      "outputs": [
        {
          "output_type": "execute_result",
          "data": {
            "text/html": [
              "<div>\n",
              "<style scoped>\n",
              "    .dataframe tbody tr th:only-of-type {\n",
              "        vertical-align: middle;\n",
              "    }\n",
              "\n",
              "    .dataframe tbody tr th {\n",
              "        vertical-align: top;\n",
              "    }\n",
              "\n",
              "    .dataframe thead th {\n",
              "        text-align: right;\n",
              "    }\n",
              "</style>\n",
              "<table border=\"1\" class=\"dataframe\">\n",
              "  <thead>\n",
              "    <tr style=\"text-align: right;\">\n",
              "      <th></th>\n",
              "      <th>a</th>\n",
              "      <th>b</th>\n",
              "      <th>c</th>\n",
              "      <th>d</th>\n",
              "      <th>e</th>\n",
              "      <th>f</th>\n",
              "      <th>g</th>\n",
              "      <th>defects</th>\n",
              "    </tr>\n",
              "  </thead>\n",
              "  <tbody>\n",
              "    <tr>\n",
              "      <th>615</th>\n",
              "      <td>4.0</td>\n",
              "      <td>26.67</td>\n",
              "      <td>0.0</td>\n",
              "      <td>15.0</td>\n",
              "      <td>15.0</td>\n",
              "      <td>0.07</td>\n",
              "      <td>2.0</td>\n",
              "      <td>false</td>\n",
              "    </tr>\n",
              "    <tr>\n",
              "      <th>616</th>\n",
              "      <td>0.0</td>\n",
              "      <td>0.00</td>\n",
              "      <td>0.0</td>\n",
              "      <td>5.0</td>\n",
              "      <td>3.0</td>\n",
              "      <td>0.33</td>\n",
              "      <td>0.0</td>\n",
              "      <td>false</td>\n",
              "    </tr>\n",
              "    <tr>\n",
              "      <th>617</th>\n",
              "      <td>0.0</td>\n",
              "      <td>0.00</td>\n",
              "      <td>0.0</td>\n",
              "      <td>13.0</td>\n",
              "      <td>10.0</td>\n",
              "      <td>0.40</td>\n",
              "      <td>2.0</td>\n",
              "      <td>false</td>\n",
              "    </tr>\n",
              "    <tr>\n",
              "      <th>618</th>\n",
              "      <td>5.0</td>\n",
              "      <td>65.31</td>\n",
              "      <td>27.0</td>\n",
              "      <td>20.0</td>\n",
              "      <td>22.0</td>\n",
              "      <td>0.23</td>\n",
              "      <td>3.0</td>\n",
              "      <td>false</td>\n",
              "    </tr>\n",
              "    <tr>\n",
              "      <th>619</th>\n",
              "      <td>0.0</td>\n",
              "      <td>8.10</td>\n",
              "      <td>3.0</td>\n",
              "      <td>16.0</td>\n",
              "      <td>34.0</td>\n",
              "      <td>0.15</td>\n",
              "      <td>4.0</td>\n",
              "      <td>false</td>\n",
              "    </tr>\n",
              "  </tbody>\n",
              "</table>\n",
              "</div>"
            ],
            "text/plain": [
              "       a      b     c     d     e     f    g defects\n",
              "615  4.0  26.67   0.0  15.0  15.0  0.07  2.0   false\n",
              "616  0.0   0.00   0.0   5.0   3.0  0.33  0.0   false\n",
              "617  0.0   0.00   0.0  13.0  10.0  0.40  2.0   false\n",
              "618  5.0  65.31  27.0  20.0  22.0  0.23  3.0   false\n",
              "619  0.0   8.10   3.0  16.0  34.0  0.15  4.0   false"
            ]
          },
          "metadata": {
            "tags": []
          },
          "execution_count": 42
        }
      ]
    },
    {
      "cell_type": "code",
      "metadata": {
        "id": "v6FkjOHa5kNH",
        "colab_type": "code",
        "colab": {}
      },
      "source": [
        "tr1=tr1.append(buggers, ignore_index=True)\n",
        "tr2=tr2.append(buggers, ignore_index=True)\n",
        "tr3=tr3.append(buggers, ignore_index=True)\n",
        "tr4=tr4.append(buggers, ignore_index=True)\n",
        "tr5=tr5.append(buggers, ignore_index=True)\n",
        "tr6=tr6.append(buggers, ignore_index=True)\n",
        "tr7=tr7.append(buggers, ignore_index=True) #change acc to partitions"
      ],
      "execution_count": 0,
      "outputs": []
    },
    {
      "cell_type": "code",
      "metadata": {
        "id": "cZ3-B7NI5n64",
        "colab_type": "code",
        "colab": {}
      },
      "source": [
        "tr1y=tr1['defects']\n",
        "tr1x=tr1.drop(columns=['defects'])\n",
        "tr2y=tr2['defects']\n",
        "tr2x=tr2.drop(columns=['defects'])\n",
        "tr3y=tr3['defects']\n",
        "tr3x=tr3.drop(columns=['defects'])\n",
        "tr4y=tr4['defects']\n",
        "tr4x=tr4.drop(columns=['defects'])\n",
        "tr5y=tr5['defects']\n",
        "tr5x=tr5.drop(columns=['defects'])\n",
        "tr6y=tr6['defects']\n",
        "tr6x=tr6.drop(columns=['defects'])\n",
        "tr7y=tr7['defects']\n",
        "tr7x=tr7.drop(columns=['defects'])#change acc to partitions"
      ],
      "execution_count": 0,
      "outputs": []
    },
    {
      "cell_type": "code",
      "metadata": {
        "id": "JuQxrw8V6ESl",
        "colab_type": "code",
        "outputId": "eb7926c3-9a46-44d5-97cc-b1a1a4aad6cd",
        "colab": {
          "base_uri": "https://localhost:8080/",
          "height": 35
        }
      },
      "source": [
        "test1.shape"
      ],
      "execution_count": 0,
      "outputs": [
        {
          "output_type": "execute_result",
          "data": {
            "text/plain": [
              "(63, 7)"
            ]
          },
          "metadata": {
            "tags": []
          },
          "execution_count": 45
        }
      ]
    },
    {
      "cell_type": "code",
      "metadata": {
        "id": "guhkgD738QKc",
        "colab_type": "code",
        "colab": {}
      },
      "source": [
        "import warnings\n",
        "warnings.filterwarnings('ignore')"
      ],
      "execution_count": 0,
      "outputs": []
    },
    {
      "cell_type": "code",
      "metadata": {
        "id": "fkDHXqln5wN7",
        "colab_type": "code",
        "outputId": "2d03cb43-f1d1-4a38-d1f8-57b7ffb6fb2a",
        "colab": {
          "base_uri": "https://localhost:8080/",
          "height": 545
        }
      },
      "source": [
        "\n",
        "from sklearn.linear_model import LogisticRegression\n",
        "from sklearn.metrics import confusion_matrix, precision_recall_curve, auc, roc_auc_score, roc_curve, recall_score, classification_report\n",
        "\n",
        "\n",
        "from sklearn.ensemble import RandomForestClassifier\n",
        "import xgboost\n",
        "from xgboost import XGBClassifier\n",
        "import time\n",
        "from sklearn.model_selection import cross_val_score\n",
        "\n",
        "training_start = time.perf_counter()\n",
        "xgb2 = XGBClassifier(n_estimators=100)\n",
        "xgb2.fit(tr2x, tr2y)\n",
        "clf1 = RandomForestClassifier()\n",
        "clf1.fit(tr1x, tr1y)\n",
        "xgb4 = XGBClassifier(n_estimators=100)\n",
        "xgb4.fit(tr4x, tr4y)\n",
        "clf3 = RandomForestClassifier()\n",
        "clf3.fit(tr3x, tr3y)\n",
        "clf5 = RandomForestClassifier()\n",
        "clf5.fit(tr5x, tr5y)\n",
        "xgb6 = XGBClassifier(n_estimators=100)\n",
        "xgb6.fit(tr6x, tr6y)\n",
        "clf7 = RandomForestClassifier()\n",
        "clf7.fit(tr7x, tr7y) #change acc to partitions\n",
        "training_end = time.perf_counter()\n",
        "pred1=clf1.predict(test1)\n",
        "pred2=xgb2.predict(test1)\n",
        "pred3=clf3.predict(test1)\n",
        "pred4=xgb4.predict(test1)\n",
        "pred5=clf5.predict(test1)\n",
        "pred6=xgb6.predict(test1)\n",
        "pred7=clf7.predict(test1) #change acc to partitions\n",
        "\n",
        "for i in range (63):#whatever the no of rows of ptest1x are\n",
        "  p1=0\n",
        "  p2=0\n",
        "  p3=0\n",
        "  p4=0\n",
        "  p5=0\n",
        "  p6=0\n",
        "  p7=0\n",
        "  if pred1[i]=='true':\n",
        "    p1=1\n",
        "  if pred2[i]=='true':\n",
        "    p2=1\n",
        "  if pred3[i]=='true':\n",
        "    p3=1\n",
        "  if pred4[i]=='true':\n",
        "    p4=1\n",
        "  if pred5[i]=='true':\n",
        "    p5=1\n",
        "  if pred6[i]=='true':\n",
        "    p6=1\n",
        "  if pred7[i]=='true':\n",
        "    p7=1\n",
        "  sum=p1+p2+p3+p4+p5+p6+p7# change acc to partitions\n",
        "  if(sum>=4):\n",
        "    pred1[i]=='true'\n",
        "  else:\n",
        "    pred1[i]='false'\n",
        "\n",
        "from sklearn.metrics import confusion_matrix, precision_recall_curve, auc, roc_auc_score, roc_curve, recall_score, classification_report\n",
        "\n",
        "from sklearn.metrics import confusion_matrix\n",
        "matrix = confusion_matrix(ddy,pred1)\n",
        "\n",
        "print(matrix)\n",
        "print(classification_report(ddy,pred1))\n",
        "#print(roc_auc_score(ddy,pred1))\n",
        "\n",
        "xgb_train_time = training_end-training_start\n",
        "print(\"Time consumed for training: %4.3f\" % (xgb_train_time))\n",
        "\n",
        "\n",
        "cl = RandomForestClassifier()\n",
        "scores=cross_val_score(cl, tr1x, tr1y, cv=8) # change cv acc to partitions.\n",
        "arr=[1,2,3,4,5,6,7] # change arr acc to partitions \n",
        "print(\"cross val scores\")\n",
        "print(scores)\n",
        "import matplotlib.pyplot as plt\n",
        "plt.plot(scores,'ro')\n",
        "plt.axis([0, 7, 0, 1])# if 8 partitions then 8 else change\n",
        "plt.ylabel('accuracy with folds')\n",
        "plt.show()\n",
        "# this was standard code\n",
        "\n",
        "\n",
        "\n"
      ],
      "execution_count": 0,
      "outputs": [
        {
          "output_type": "stream",
          "text": [
            "[[48  7]\n",
            " [ 2  6]]\n",
            "              precision    recall  f1-score   support\n",
            "\n",
            "       false       0.96      0.87      0.91        55\n",
            "        true       0.46      0.75      0.57         8\n",
            "\n",
            "    accuracy                           0.86        63\n",
            "   macro avg       0.71      0.81      0.74        63\n",
            "weighted avg       0.90      0.86      0.87        63\n",
            "\n",
            "Time consumed for training: 0.146\n",
            "cross val scores\n",
            "[0.82608696 0.80434783 0.77777778 0.82222222 0.77777778 0.82222222\n",
            " 0.84444444 0.79545455]\n"
          ],
          "name": "stdout"
        },
        {
          "output_type": "display_data",
          "data": {
            "image/png": "[encoded data removed]",
            "text/plain": [
              "<Figure size 432x288 with 1 Axes>"
            ]
          },
          "metadata": {
            "tags": []
          }
        }
      ]
    },
    {
      "cell_type": "code",
      "metadata": {
        "id": "0HjUWyOdRTBb",
        "colab_type": "code",
        "colab": {}
      },
      "source": [
        "#now code with the \"loop\"\n",
        "while(true):\n",
        "  training_start = time.perf_counter()\n",
        "  xgb2 = XGBClassifier(n_estimators=100)\n",
        "  xgb2.fit(tr2x, tr2y)\n",
        "  clf1 = RandomForestClassifier()\n",
        "  clf1.fit(tr1x, tr1y)\n",
        "  xgb4 = XGBClassifier(n_estimators=100)\n",
        "  xgb4.fit(tr4x, tr4y)\n",
        "  clf3 = RandomForestClassifier()\n",
        "  clf3.fit(tr3x, tr3y)\n",
        "  clf5 = RandomForestClassifier()\n",
        "  clf5.fit(tr5x, tr5y)\n",
        "  xgb6 = XGBClassifier(n_estimators=100)\n",
        "  xgb6.fit(tr6x, tr6y)\n",
        "  clf7 = RandomForestClassifier()\n",
        "  clf7.fit(tr7x, tr7y) #change acc to partitions\n",
        "  training_end = time.perf_counter()\n",
        "  pred1=clf1.predict(test1)\n",
        "  pred2=xgb2.predict(test1)\n",
        "  pred3=clf3.predict(test1)\n",
        "  pred4=xgb4.predict(test1)\n",
        "  pred5=clf5.predict(test1)\n",
        "  pred6=xgb6.predict(test1)\n",
        "  pred7=clf7.predict(test1) #change acc to partitions\n",
        "\n",
        "  for i in range (63):#whatever the no of rows of ptest1x are\n",
        "    p1=0\n",
        "    p2=0\n",
        "    p3=0\n",
        "    p4=0\n",
        "    p5=0\n",
        "    p6=0\n",
        "    p7=0\n",
        "    if pred1[i]=='true':\n",
        "      p1=1\n",
        "    if pred2[i]=='true':\n",
        "      p2=1\n",
        "    if pred3[i]=='true':\n",
        "      p3=1\n",
        "    if pred4[i]=='true':\n",
        "      p4=1\n",
        "    if pred5[i]=='true':\n",
        "      p5=1\n",
        "    if pred6[i]=='true':\n",
        "      p6=1\n",
        "    if pred7[i]=='true':\n",
        "      p7=1\n",
        "    sum=p1+p2+p3+p4+p5+p6+p7# change acc to partitions\n",
        "    if(sum>=4):\n",
        "      pred1[i]=='true'\n",
        "    else:\n",
        "      pred1[i]='false'\n",
        "\n",
        "  from sklearn.metrics import confusion_matrix, precision_recall_curve, auc, roc_auc_score, roc_curve, recall_score, classification_report\n",
        "\n",
        "  from sklearn.metrics import confusion_matrix\n",
        "  matrix = confusion_matrix(ddy,pred1)\n",
        "  instances_of_coreect1= 46#means no of correct predicted nobugs. take this to be any desired no which is less than than the no of \n",
        "  #total nobugs in test...\n",
        "  instances_of_coreect0= 5 #means no of correct predicted bugs. take this to be any desired no which is less than than the no of \n",
        "  #total bugs in test...               VERY IMPORTANT\n",
        "  pred1=matrix[0][0]\n",
        "  pred0=matrix[1][1]\n",
        "  if(pred1>=instances_of_coreect1 and pred0>=instances_of_coreect0):\n",
        "    print(matrix)\n",
        "    print(classification_report(ddy,pred1))\n",
        "    #print(roc_auc_score(ddy,pred1))\n",
        "\n",
        "    xgb_train_time = training_end-training_start\n",
        "    print(\"Time consumed for training: %4.3f\" % (xgb_train_time))\n",
        "\n",
        "\n",
        "    cl = RandomForestClassifier()\n",
        "    scores=cross_val_score(cl, tr1x, tr1y, cv=8) # change cv acc to partitions.\n",
        "    arr=[1,2,3,4,5,6,7] # change arr acc to partitions \n",
        "    print(\"cross val scores\")\n",
        "    print(scores)\n",
        "    import matplotlib.pyplot as plt\n",
        "    plt.plot(scores,'ro')\n",
        "    plt.axis([0, 7, 0, 1])# if 8 partitions then 8 else change\n",
        "    plt.ylabel('accuracy with folds')\n",
        "    plt.show()\n",
        "    break"
      ],
      "execution_count": 0,
      "outputs": []
    }
  ]
}